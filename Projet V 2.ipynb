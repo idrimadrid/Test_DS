{
 "cells": [
  {
   "cell_type": "code",
   "execution_count": 527,
   "metadata": {
    "ExecuteTime": {
     "end_time": "2021-07-20T12:02:59.724015Z",
     "start_time": "2021-07-20T12:02:59.662182Z"
    }
   },
   "outputs": [],
   "source": [
    "import pandas as pd\n",
    "from sklearn.preprocessing import LabelEncoder \n",
    "from sklearn.model_selection import train_test_split\n",
    "import matplotlib.pyplot as plt\n",
    "from sklearn.metrics import accuracy_score ,f1_score\n",
    "from sklearn.svm import SVC, LinearSVC\n",
    "from sklearn.ensemble import RandomForestClassifier,StackingClassifier,AdaBoostClassifier,GradientBoostingClassifier,BaggingClassifier, RandomForestClassifier\n",
    "from sklearn.preprocessing import StandardScaler\n",
    "from sklearn.neighbors import KNeighborsClassifier\n",
    "from sklearn.model_selection import GridSearchCV\n",
    "from sklearn.tree import DecisionTreeClassifier\n",
    "from sklearn.linear_model import LogisticRegression\n",
    "from sklearn.impute import KNNImputer\n",
    "\n",
    "pd.options.display.max_rows = 10\n",
    "\n",
    "from nltk.stem import PorterStemmer\n",
    "from nltk.stem import WordNetLemmatizer\n",
    "from nltk.corpus import stopwords\n",
    "\n",
    "import re\n",
    "import nltk as nlp\n",
    "\n",
    "from sklearn.pipeline import make_pipeline"
   ]
  },
  {
   "cell_type": "markdown",
   "metadata": {},
   "source": [
    "## loading"
   ]
  },
  {
   "cell_type": "code",
   "execution_count": 528,
   "metadata": {
    "ExecuteTime": {
     "end_time": "2021-07-20T12:03:01.727689Z",
     "start_time": "2021-07-20T12:03:01.508240Z"
    }
   },
   "outputs": [],
   "source": [
    "df = pd.read_csv('data_for_test.csv')"
   ]
  },
  {
   "cell_type": "code",
   "execution_count": 529,
   "metadata": {
    "ExecuteTime": {
     "end_time": "2021-07-20T12:03:02.532499Z",
     "start_time": "2021-07-20T12:03:02.484629Z"
    },
    "scrolled": true
   },
   "outputs": [
    {
     "name": "stdout",
     "output_type": "stream",
     "text": [
      "<class 'pandas.core.frame.DataFrame'>\n",
      "RangeIndex: 1450 entries, 0 to 1449\n",
      "Data columns (total 16 columns):\n",
      " #   Column              Non-Null Count  Dtype \n",
      "---  ------              --------------  ----- \n",
      " 0   name                1448 non-null   object\n",
      " 1   real_name           1301 non-null   object\n",
      " 2   full_name           956 non-null    object\n",
      " 3   overall_score       1450 non-null   object\n",
      " 4   history_text        1360 non-null   object\n",
      " 5   intelligence_score  1450 non-null   int64 \n",
      " 6   strength_score      1450 non-null   int64 \n",
      " 7   speed_score         1450 non-null   int64 \n",
      " 8   durability_score    1450 non-null   int64 \n",
      " 9   power_score         1450 non-null   int64 \n",
      " 10  combat_score        1450 non-null   int64 \n",
      " 11  creator             1311 non-null   object\n",
      " 12  gender              1305 non-null   object\n",
      " 13  type_race           1043 non-null   object\n",
      " 14  height              1448 non-null   object\n",
      " 15  weight              1448 non-null   object\n",
      "dtypes: int64(6), object(10)\n",
      "memory usage: 181.4+ KB\n"
     ]
    }
   ],
   "source": [
    "df.info()"
   ]
  },
  {
   "cell_type": "code",
   "execution_count": 530,
   "metadata": {
    "ExecuteTime": {
     "end_time": "2021-07-20T12:03:04.233870Z",
     "start_time": "2021-07-20T12:03:04.181014Z"
    },
    "scrolled": true
   },
   "outputs": [
    {
     "data": {
      "text/html": [
       "<div>\n",
       "<style scoped>\n",
       "    .dataframe tbody tr th:only-of-type {\n",
       "        vertical-align: middle;\n",
       "    }\n",
       "\n",
       "    .dataframe tbody tr th {\n",
       "        vertical-align: top;\n",
       "    }\n",
       "\n",
       "    .dataframe thead th {\n",
       "        text-align: right;\n",
       "    }\n",
       "</style>\n",
       "<table border=\"1\" class=\"dataframe\">\n",
       "  <thead>\n",
       "    <tr style=\"text-align: right;\">\n",
       "      <th></th>\n",
       "      <th>name</th>\n",
       "      <th>real_name</th>\n",
       "      <th>full_name</th>\n",
       "      <th>overall_score</th>\n",
       "      <th>history_text</th>\n",
       "      <th>intelligence_score</th>\n",
       "      <th>strength_score</th>\n",
       "      <th>speed_score</th>\n",
       "      <th>durability_score</th>\n",
       "      <th>power_score</th>\n",
       "      <th>combat_score</th>\n",
       "      <th>creator</th>\n",
       "      <th>gender</th>\n",
       "      <th>type_race</th>\n",
       "      <th>height</th>\n",
       "      <th>weight</th>\n",
       "    </tr>\n",
       "  </thead>\n",
       "  <tbody>\n",
       "    <tr>\n",
       "      <th>0</th>\n",
       "      <td>3-D Man</td>\n",
       "      <td>Delroy Garrett, Jr.</td>\n",
       "      <td>Delroy Garrett, Jr.</td>\n",
       "      <td>6</td>\n",
       "      <td>Delroy Garrett, Jr. grew up to become a track ...</td>\n",
       "      <td>85</td>\n",
       "      <td>30</td>\n",
       "      <td>60</td>\n",
       "      <td>60</td>\n",
       "      <td>40</td>\n",
       "      <td>70</td>\n",
       "      <td>Marvel Comics</td>\n",
       "      <td>Male</td>\n",
       "      <td>Human</td>\n",
       "      <td>-</td>\n",
       "      <td>-</td>\n",
       "    </tr>\n",
       "    <tr>\n",
       "      <th>1</th>\n",
       "      <td>514A (Gotham)</td>\n",
       "      <td>Bruce Wayne</td>\n",
       "      <td>NaN</td>\n",
       "      <td>10</td>\n",
       "      <td>He was one of the many prisoners of Indian Hil...</td>\n",
       "      <td>100</td>\n",
       "      <td>20</td>\n",
       "      <td>30</td>\n",
       "      <td>50</td>\n",
       "      <td>35</td>\n",
       "      <td>100</td>\n",
       "      <td>DC Comics</td>\n",
       "      <td>NaN</td>\n",
       "      <td>NaN</td>\n",
       "      <td>-</td>\n",
       "      <td>-</td>\n",
       "    </tr>\n",
       "    <tr>\n",
       "      <th>2</th>\n",
       "      <td>A-Bomb</td>\n",
       "      <td>Richard Milhouse Jones</td>\n",
       "      <td>Richard Milhouse Jones</td>\n",
       "      <td>20</td>\n",
       "      <td>Richard \"Rick\" Jones was orphaned at a young ...</td>\n",
       "      <td>80</td>\n",
       "      <td>100</td>\n",
       "      <td>80</td>\n",
       "      <td>100</td>\n",
       "      <td>100</td>\n",
       "      <td>80</td>\n",
       "      <td>Marvel Comics</td>\n",
       "      <td>Male</td>\n",
       "      <td>Human</td>\n",
       "      <td>6'8 • 203 cm</td>\n",
       "      <td>980 lb • 441 kg</td>\n",
       "    </tr>\n",
       "    <tr>\n",
       "      <th>3</th>\n",
       "      <td>Aa</td>\n",
       "      <td>Aa</td>\n",
       "      <td>NaN</td>\n",
       "      <td>12</td>\n",
       "      <td>Aa is one of the more passive members of the P...</td>\n",
       "      <td>80</td>\n",
       "      <td>50</td>\n",
       "      <td>55</td>\n",
       "      <td>45</td>\n",
       "      <td>100</td>\n",
       "      <td>55</td>\n",
       "      <td>DC Comics</td>\n",
       "      <td>Male</td>\n",
       "      <td>Human</td>\n",
       "      <td>-</td>\n",
       "      <td>-</td>\n",
       "    </tr>\n",
       "    <tr>\n",
       "      <th>4</th>\n",
       "      <td>Aaron Cash</td>\n",
       "      <td>Aaron Cash</td>\n",
       "      <td>Aaron Cash</td>\n",
       "      <td>5</td>\n",
       "      <td>Aaron Cash is the head of security at Arkham A...</td>\n",
       "      <td>80</td>\n",
       "      <td>10</td>\n",
       "      <td>25</td>\n",
       "      <td>40</td>\n",
       "      <td>30</td>\n",
       "      <td>50</td>\n",
       "      <td>DC Comics</td>\n",
       "      <td>Male</td>\n",
       "      <td>Human</td>\n",
       "      <td>-</td>\n",
       "      <td>-</td>\n",
       "    </tr>\n",
       "    <tr>\n",
       "      <th>...</th>\n",
       "      <td>...</td>\n",
       "      <td>...</td>\n",
       "      <td>...</td>\n",
       "      <td>...</td>\n",
       "      <td>...</td>\n",
       "      <td>...</td>\n",
       "      <td>...</td>\n",
       "      <td>...</td>\n",
       "      <td>...</td>\n",
       "      <td>...</td>\n",
       "      <td>...</td>\n",
       "      <td>...</td>\n",
       "      <td>...</td>\n",
       "      <td>...</td>\n",
       "      <td>...</td>\n",
       "      <td>...</td>\n",
       "    </tr>\n",
       "    <tr>\n",
       "      <th>1445</th>\n",
       "      <td>Zatanna</td>\n",
       "      <td>Zatanna Zatara</td>\n",
       "      <td>Zatanna Zatara</td>\n",
       "      <td>10</td>\n",
       "      <td>Zatanna is the daughter of adventurer John Zat...</td>\n",
       "      <td>90</td>\n",
       "      <td>10</td>\n",
       "      <td>25</td>\n",
       "      <td>30</td>\n",
       "      <td>100</td>\n",
       "      <td>55</td>\n",
       "      <td>DC Comics</td>\n",
       "      <td>Female</td>\n",
       "      <td>Human</td>\n",
       "      <td>5'7 • 170 cm</td>\n",
       "      <td>127 lb • 57 kg</td>\n",
       "    </tr>\n",
       "    <tr>\n",
       "      <th>1446</th>\n",
       "      <td>Zero</td>\n",
       "      <td>DWN-∞: Zero</td>\n",
       "      <td>DWN-∞: Zero</td>\n",
       "      <td>18</td>\n",
       "      <td>Zero was created by the late Dr. Albert Wily ...</td>\n",
       "      <td>80</td>\n",
       "      <td>100</td>\n",
       "      <td>100</td>\n",
       "      <td>100</td>\n",
       "      <td>100</td>\n",
       "      <td>80</td>\n",
       "      <td>Capcom</td>\n",
       "      <td>Male</td>\n",
       "      <td>Robot</td>\n",
       "      <td>5'6 • 168 cm</td>\n",
       "      <td>145 lb • 65 kg</td>\n",
       "    </tr>\n",
       "    <tr>\n",
       "      <th>1447</th>\n",
       "      <td>Zoom (New 52)</td>\n",
       "      <td>Hunter Zolomon</td>\n",
       "      <td>NaN</td>\n",
       "      <td>20</td>\n",
       "      <td>Hunter Zolomon is better known as Zoom, a spee...</td>\n",
       "      <td>95</td>\n",
       "      <td>50</td>\n",
       "      <td>100</td>\n",
       "      <td>75</td>\n",
       "      <td>100</td>\n",
       "      <td>80</td>\n",
       "      <td>DC Comics</td>\n",
       "      <td>Male</td>\n",
       "      <td>NaN</td>\n",
       "      <td>6'1 • 185 cm</td>\n",
       "      <td>181 lb • 81 kg</td>\n",
       "    </tr>\n",
       "    <tr>\n",
       "      <th>1448</th>\n",
       "      <td>Zoom</td>\n",
       "      <td>Hunter Zolomon</td>\n",
       "      <td>Hunter Zolomon</td>\n",
       "      <td>9</td>\n",
       "      <td>Hunter Zolomon had a troubled relationship wi...</td>\n",
       "      <td>75</td>\n",
       "      <td>10</td>\n",
       "      <td>100</td>\n",
       "      <td>30</td>\n",
       "      <td>100</td>\n",
       "      <td>30</td>\n",
       "      <td>DC Comics</td>\n",
       "      <td>Male</td>\n",
       "      <td>NaN</td>\n",
       "      <td>6'1 • 185 cm</td>\n",
       "      <td>181 lb • 81 kg</td>\n",
       "    </tr>\n",
       "    <tr>\n",
       "      <th>1449</th>\n",
       "      <td>Zzzax</td>\n",
       "      <td>NaN</td>\n",
       "      <td>NaN</td>\n",
       "      <td>5</td>\n",
       "      <td>Zzzax was the product of an accident that occu...</td>\n",
       "      <td>45</td>\n",
       "      <td>80</td>\n",
       "      <td>75</td>\n",
       "      <td>95</td>\n",
       "      <td>80</td>\n",
       "      <td>50</td>\n",
       "      <td>Marvel Comics</td>\n",
       "      <td>NaN</td>\n",
       "      <td>NaN</td>\n",
       "      <td>40'0 • 12.2 meters</td>\n",
       "      <td>-</td>\n",
       "    </tr>\n",
       "  </tbody>\n",
       "</table>\n",
       "<p>1450 rows × 16 columns</p>\n",
       "</div>"
      ],
      "text/plain": [
       "               name               real_name               full_name  \\\n",
       "0           3-D Man     Delroy Garrett, Jr.     Delroy Garrett, Jr.   \n",
       "1     514A (Gotham)             Bruce Wayne                     NaN   \n",
       "2            A-Bomb  Richard Milhouse Jones  Richard Milhouse Jones   \n",
       "3                Aa                      Aa                     NaN   \n",
       "4        Aaron Cash              Aaron Cash              Aaron Cash   \n",
       "...             ...                     ...                     ...   \n",
       "1445        Zatanna          Zatanna Zatara          Zatanna Zatara   \n",
       "1446           Zero             DWN-∞: Zero             DWN-∞: Zero   \n",
       "1447  Zoom (New 52)          Hunter Zolomon                     NaN   \n",
       "1448           Zoom          Hunter Zolomon          Hunter Zolomon   \n",
       "1449          Zzzax                     NaN                     NaN   \n",
       "\n",
       "     overall_score                                       history_text  \\\n",
       "0                6  Delroy Garrett, Jr. grew up to become a track ...   \n",
       "1               10  He was one of the many prisoners of Indian Hil...   \n",
       "2               20   Richard \"Rick\" Jones was orphaned at a young ...   \n",
       "3               12  Aa is one of the more passive members of the P...   \n",
       "4                5  Aaron Cash is the head of security at Arkham A...   \n",
       "...            ...                                                ...   \n",
       "1445            10  Zatanna is the daughter of adventurer John Zat...   \n",
       "1446            18   Zero was created by the late Dr. Albert Wily ...   \n",
       "1447            20  Hunter Zolomon is better known as Zoom, a spee...   \n",
       "1448             9   Hunter Zolomon had a troubled relationship wi...   \n",
       "1449             5  Zzzax was the product of an accident that occu...   \n",
       "\n",
       "      intelligence_score  strength_score  speed_score  durability_score  \\\n",
       "0                     85              30           60                60   \n",
       "1                    100              20           30                50   \n",
       "2                     80             100           80               100   \n",
       "3                     80              50           55                45   \n",
       "4                     80              10           25                40   \n",
       "...                  ...             ...          ...               ...   \n",
       "1445                  90              10           25                30   \n",
       "1446                  80             100          100               100   \n",
       "1447                  95              50          100                75   \n",
       "1448                  75              10          100                30   \n",
       "1449                  45              80           75                95   \n",
       "\n",
       "      power_score  combat_score        creator  gender type_race  \\\n",
       "0              40            70  Marvel Comics    Male     Human   \n",
       "1              35           100      DC Comics     NaN       NaN   \n",
       "2             100            80  Marvel Comics    Male     Human   \n",
       "3             100            55      DC Comics    Male     Human   \n",
       "4              30            50      DC Comics    Male     Human   \n",
       "...           ...           ...            ...     ...       ...   \n",
       "1445          100            55      DC Comics  Female     Human   \n",
       "1446          100            80         Capcom    Male     Robot   \n",
       "1447          100            80      DC Comics    Male       NaN   \n",
       "1448          100            30      DC Comics    Male       NaN   \n",
       "1449           80            50  Marvel Comics     NaN       NaN   \n",
       "\n",
       "                  height           weight  \n",
       "0                      -                -  \n",
       "1                      -                -  \n",
       "2           6'8 • 203 cm  980 lb • 441 kg  \n",
       "3                      -                -  \n",
       "4                      -                -  \n",
       "...                  ...              ...  \n",
       "1445        5'7 • 170 cm   127 lb • 57 kg  \n",
       "1446        5'6 • 168 cm   145 lb • 65 kg  \n",
       "1447        6'1 • 185 cm   181 lb • 81 kg  \n",
       "1448        6'1 • 185 cm   181 lb • 81 kg  \n",
       "1449  40'0 • 12.2 meters                -  \n",
       "\n",
       "[1450 rows x 16 columns]"
      ]
     },
     "execution_count": 530,
     "metadata": {},
     "output_type": "execute_result"
    }
   ],
   "source": [
    "df"
   ]
  },
  {
   "cell_type": "code",
   "execution_count": 531,
   "metadata": {
    "ExecuteTime": {
     "end_time": "2021-07-20T12:03:28.352595Z",
     "start_time": "2021-07-20T12:03:28.324703Z"
    }
   },
   "outputs": [],
   "source": [
    "df.drop(columns=[\"name\",\"real_name\",\"full_name\",\"height\",\"weight\"],inplace=True)\n",
    "df.dropna(subset=['creator'],inplace=True)\n",
    "df.dropna(subset=['history_text'],inplace=True)"
   ]
  },
  {
   "cell_type": "code",
   "execution_count": 532,
   "metadata": {
    "ExecuteTime": {
     "end_time": "2021-07-20T12:03:30.808449Z",
     "start_time": "2021-07-20T12:03:30.790496Z"
    }
   },
   "outputs": [],
   "source": [
    "df.overall_score = df.overall_score.replace([\"∞\",\"-\"],\"0\")\n",
    "df.overall_score = df.overall_score.astype(int)\n",
    "df.overall_score = df.overall_score.replace(0,df.overall_score.mean())"
   ]
  },
  {
   "cell_type": "code",
   "execution_count": 533,
   "metadata": {
    "ExecuteTime": {
     "end_time": "2021-07-20T12:03:32.177486Z",
     "start_time": "2021-07-20T12:03:32.164556Z"
    },
    "scrolled": false
   },
   "outputs": [
    {
     "name": "stdout",
     "output_type": "stream",
     "text": [
      "overall_score :  0.0\n",
      "history_text :  0.0\n",
      "intelligence_score :  0.0\n",
      "strength_score :  0.0\n",
      "speed_score :  0.0\n",
      "durability_score :  0.0\n",
      "power_score :  0.0\n",
      "combat_score :  0.0\n",
      "creator :  0.0\n",
      "gender :  10.05677210056772\n",
      "type_race :  29.034874290348746\n"
     ]
    }
   ],
   "source": [
    "for col in df.columns:\n",
    "    print(f\"{col} :  {df[col].isna().sum()/df.shape[0]*100}\")"
   ]
  },
  {
   "cell_type": "code",
   "execution_count": 194,
   "metadata": {
    "ExecuteTime": {
     "end_time": "2021-07-16T21:16:58.294253Z",
     "start_time": "2021-07-16T21:16:58.282285Z"
    },
    "scrolled": true
   },
   "outputs": [
    {
     "name": "stdout",
     "output_type": "stream",
     "text": [
      "overall_score :  [  6.          10.          20.          12.           5.\n",
      "   8.           9.          22.          13.          29.\n",
      "  12.57664234  19.           7.           2.          15.\n",
      "  14.          34.          35.           4.          37.\n",
      "   3.          70.          21.          11.         222.\n",
      "   1.          32.          16.          18.          80.\n",
      "  17.          28.          42.          71.          84.\n",
      "  73.          23.         112.         229.          24.\n",
      "  61.         120.          40.         142.         124.\n",
      " 211.          27.          54.          33.          57.\n",
      " 169.          30.         226.          77.         237.\n",
      "  26.          38.          47.          46.          87.\n",
      "  25.          60.          82.          78.          66.\n",
      "  62.          31.          64.          50.          58.\n",
      "  65.         108.         125.          41.          75.\n",
      "  53.         152.          83.         146.          49.        ]\n",
      "intelligence_score :  [ 85 100  80  90  95  75  70  60   0  65  50  55  40  30  45  35]\n",
      "strength_score :  [ 30  20 100  50  10  40  90  15  80  55   5  85  25  70   0  60  35  45\n",
      "  75  65  95]\n",
      "speed_score :  [ 60  30  80  55  25  45  35  20 100  75  70  15  10  40  85   0  50  65\n",
      "  95  90   5]\n",
      "durability_score :  [ 60  50 100  45  40  55  65  90  30  70   5  20  10  25  80  85  75  15\n",
      "   0  95  35]\n",
      "power_score :  [ 40  35 100  30  55  65  45   5  25  60  70  15  85  20  90   0  75  95\n",
      "  50  10  80]\n",
      "combat_score :  [ 70 100  80  55  50  85  65  95  90  20  75  60  40  35   0  30  15  25\n",
      "  45   5  10]\n",
      "creator :  ['Marvel Comics' 'DC Comics' 'George Lucas' 'Dark Horse Comics'\n",
      " 'Blizzard Entertainment' 'Lego' 'Wildstorm' 'Ubisoft' 'J. R. R. Tolkien'\n",
      " 'NBC - Heroes' 'Image Comics' 'George R. R. Martin' 'Icon Comics' 'SyFy'\n",
      " 'Hanna-Barbera' 'Hasbro' 'Clive Barker' 'Team Epic TV' 'South Park'\n",
      " 'Shueisha' 'Namco' 'HarperCollins' 'Capcom' 'ABC Studios'\n",
      " 'Universal Studios' 'Star Trek' 'J. K. Rowling' 'Konami' 'Sony Pictures'\n",
      " 'Stephen King' 'Dreamworks' 'Disney' 'Ian Fleming' 'Nintendo' 'Microsoft'\n",
      " 'Cartoon Network' 'Mortal Kombat' 'IDW Publishing' 'Mattel' 'Sega'\n",
      " 'Matt Groening']\n",
      "gender :  ['Male' nan 'Female']\n",
      "type_race :  ['Human' nan \"Twi'lek\" 'Icthyo Sapien' 'Ungaran' 'Human / Radiation'\n",
      " 'Cosmic Entity' 'God / Eternal' 'Mutant' 'Cyborg' 'Xenomorph XX121'\n",
      " 'Demon' 'Android' 'Vampire' 'Symbiote' 'Atlantean' 'Alien'\n",
      " 'Human / Altered' 'Metahuman' 'Animal' 'New God' 'Leprechaun' 'Alpha'\n",
      " 'Bizarro' 'Demi-God' 'Inhuman' 'Zombie' 'Asgardian' 'Robot' 'Kree'\n",
      " 'Saiyan' 'Elder' 'Dathomirian Zabrak' 'Gorilla' 'Amazon' 'Human / Cosmic'\n",
      " 'Elf' 'Kryptonian' 'Kakarantharaian' 'Zen-Whoberian' 'Maiar' 'Lego'\n",
      " 'Strontian' 'Rodian' 'Flora Colossus' 'Clone' 'Gungan' 'Energy'\n",
      " 'Bolovaxian' 'Titanian' 'Daxamite' 'Frost Giant' 'Czarnian' 'Eternal'\n",
      " 'Martian' 'Planet' 'Yautja' 'Human-Inhuman' 'Korugaran' 'Human-Spartoi'\n",
      " 'Tamaranean' 'Mutant / Clone' \"Yoda's species\"]\n"
     ]
    }
   ],
   "source": [
    "ls = list(df.columns)\n",
    "ls.remove('history_text')\n",
    "\n",
    "for col in ls:\n",
    "    print(f\"{col} :  {df[col].unique()}\")"
   ]
  },
  {
   "cell_type": "code",
   "execution_count": 534,
   "metadata": {
    "ExecuteTime": {
     "end_time": "2021-07-20T12:03:44.240097Z",
     "start_time": "2021-07-20T12:03:44.229125Z"
    }
   },
   "outputs": [],
   "source": [
    "df.gender = df.gender.fillna(\"Male\")\n",
    "df.gender = df.gender.map({\"Male\":1,\"Female\":2})"
   ]
  },
  {
   "cell_type": "code",
   "execution_count": 535,
   "metadata": {
    "ExecuteTime": {
     "end_time": "2021-07-20T12:07:11.508158Z",
     "start_time": "2021-07-20T12:07:11.491203Z"
    }
   },
   "outputs": [],
   "source": [
    "labelencoder = LabelEncoder()\n",
    "df.creator = labelencoder.fit_transform(df.creator)\n",
    "\n",
    "labelencoder = LabelEncoder()\n",
    "df.type_race = labelencoder.fit_transform(df.type_race.astype(str))\n",
    "\n",
    "# df.type_race = df.type_race.replace(62,np.nan)"
   ]
  },
  {
   "cell_type": "code",
   "execution_count": 536,
   "metadata": {
    "ExecuteTime": {
     "end_time": "2021-07-20T12:07:12.945465Z",
     "start_time": "2021-07-20T12:07:12.931502Z"
    }
   },
   "outputs": [
    {
     "data": {
      "text/plain": [
       "overall_score         0\n",
       "intelligence_score    0\n",
       "strength_score        0\n",
       "speed_score           0\n",
       "durability_score      0\n",
       "power_score           0\n",
       "combat_score          0\n",
       "gender                0\n",
       "type_race             0\n",
       "dtype: int64"
      ]
     },
     "execution_count": 536,
     "metadata": {},
     "output_type": "execute_result"
    }
   ],
   "source": [
    "df.drop(['creator',\"history_text\"],axis=1).isna().sum()"
   ]
  },
  {
   "cell_type": "code",
   "execution_count": 134,
   "metadata": {
    "ExecuteTime": {
     "end_time": "2021-07-16T20:53:24.745364Z",
     "start_time": "2021-07-16T20:53:24.667573Z"
    }
   },
   "outputs": [],
   "source": [
    "imputer = KNNImputer(n_neighbors=3)\n",
    "df[[\"overall_score\",\"intelligence_score\",\"strength_score\",\"speed_score\",'durability_score',\"power_score\",'combat_score',\"gender\",\"type_race\"]] = imputer.fit_transform(df.drop(['creator',\"history_text\"],axis=1))"
   ]
  },
  {
   "cell_type": "code",
   "execution_count": 537,
   "metadata": {
    "ExecuteTime": {
     "end_time": "2021-07-20T12:07:38.471180Z",
     "start_time": "2021-07-20T12:07:38.453229Z"
    }
   },
   "outputs": [],
   "source": [
    "df = pd.concat([df,pd.get_dummies(df.type_race, prefix='type_race')],axis=1)\n",
    "df.drop(columns=[\"type_race\"],inplace=True)"
   ]
  },
  {
   "cell_type": "code",
   "execution_count": 538,
   "metadata": {
    "ExecuteTime": {
     "end_time": "2021-07-20T12:07:39.436625Z",
     "start_time": "2021-07-20T12:07:39.395699Z"
    }
   },
   "outputs": [],
   "source": [
    "scaler = StandardScaler()\n",
    "\n",
    "df[[\"overall_score\",\"intelligence_score\",\"strength_score\",\"speed_score\",\"durability_score\",\"power_score\",\"combat_score\"]] = scaler.fit_transform(df[[\"overall_score\",\"intelligence_score\",\"strength_score\",\"speed_score\",\"durability_score\",\"power_score\",\"combat_score\"]])"
   ]
  },
  {
   "cell_type": "markdown",
   "metadata": {
    "heading_collapsed": true
   },
   "source": [
    "## Splitting "
   ]
  },
  {
   "cell_type": "code",
   "execution_count": 539,
   "metadata": {
    "ExecuteTime": {
     "end_time": "2021-07-20T12:07:48.521087Z",
     "start_time": "2021-07-20T12:07:48.499145Z"
    },
    "hidden": true
   },
   "outputs": [],
   "source": [
    "train_x, test_x, train_y, test_y = train_test_split(df.drop(['history_text',\"creator\"],axis=1),df[\"creator\"],random_state = 0)"
   ]
  },
  {
   "cell_type": "code",
   "execution_count": 540,
   "metadata": {
    "ExecuteTime": {
     "end_time": "2021-07-20T12:07:49.373804Z",
     "start_time": "2021-07-20T12:07:49.366823Z"
    },
    "hidden": true
   },
   "outputs": [],
   "source": [
    "def evaluation(model):\n",
    "    \n",
    "    model.fit(train_x, train_y)\n",
    "    y_pred = model.predict(test_x)\n",
    "    acc = accuracy_score(test_y, y_pred)\n",
    "    \n",
    "    print(\"Accuracy: {:.2f}\".format(acc*100))\n",
    "    \n",
    "    f1 = f1_score(test_y, y_pred, average='macro')\n",
    "    print('F1-Score: %.3f' % f1)"
   ]
  },
  {
   "cell_type": "markdown",
   "metadata": {
    "heading_collapsed": true
   },
   "source": [
    "##  train without Text"
   ]
  },
  {
   "cell_type": "code",
   "execution_count": 542,
   "metadata": {
    "ExecuteTime": {
     "end_time": "2021-07-20T12:08:13.742315Z",
     "start_time": "2021-07-20T12:08:13.460100Z"
    },
    "hidden": true
   },
   "outputs": [
    {
     "name": "stdout",
     "output_type": "stream",
     "text": [
      "Accuracy: 63.11\n",
      "F1-Score: 0.081\n"
     ]
    }
   ],
   "source": [
    "SVM = SVC(max_iter=10000,C=10,gamma='auto',random_state=0)\n",
    "evaluation(SVM)"
   ]
  },
  {
   "cell_type": "code",
   "execution_count": 544,
   "metadata": {
    "ExecuteTime": {
     "end_time": "2021-07-20T12:08:39.781594Z",
     "start_time": "2021-07-20T12:08:37.700162Z"
    },
    "hidden": true
   },
   "outputs": [
    {
     "name": "stdout",
     "output_type": "stream",
     "text": [
      "Accuracy: 61.17\n",
      "F1-Score: 0.130\n"
     ]
    },
    {
     "name": "stderr",
     "output_type": "stream",
     "text": [
      "C:\\Users\\Idriss\\anaconda3\\lib\\site-packages\\sklearn\\svm\\_base.py:976: ConvergenceWarning: Liblinear failed to converge, increase the number of iterations.\n",
      "  warnings.warn(\"Liblinear failed to converge, increase \"\n"
     ]
    }
   ],
   "source": [
    "LSVM = LinearSVC(max_iter=10000,C=10,random_state=0)\n",
    "evaluation(LSVM)"
   ]
  },
  {
   "cell_type": "code",
   "execution_count": 142,
   "metadata": {
    "ExecuteTime": {
     "end_time": "2021-07-16T20:53:43.242289Z",
     "start_time": "2021-07-16T20:53:42.775539Z"
    },
    "hidden": true
   },
   "outputs": [
    {
     "name": "stdout",
     "output_type": "stream",
     "text": [
      "Accuracy: 63.75\n",
      "F1-Score: 0.176\n"
     ]
    }
   ],
   "source": [
    "RFC = make_pipeline(StandardScaler(), RandomForestClassifier(max_depth=100, random_state=0))\n",
    "evaluation(RFC)"
   ]
  },
  {
   "cell_type": "code",
   "execution_count": 143,
   "metadata": {
    "ExecuteTime": {
     "end_time": "2021-07-16T20:54:23.098681Z",
     "start_time": "2021-07-16T20:53:43.311105Z"
    },
    "hidden": true
   },
   "outputs": [
    {
     "name": "stdout",
     "output_type": "stream",
     "text": [
      "Accuracy: 57.61\n",
      "F1-Score: 0.142\n"
     ]
    }
   ],
   "source": [
    "GBC = make_pipeline(StandardScaler(), GradientBoostingClassifier(learning_rate=0.2,\n",
    "    max_depth=5,\n",
    "    n_estimators=200))\n",
    "evaluation(GBC)"
   ]
  },
  {
   "cell_type": "code",
   "execution_count": 144,
   "metadata": {
    "ExecuteTime": {
     "end_time": "2021-07-16T20:54:23.300142Z",
     "start_time": "2021-07-16T20:54:23.181460Z"
    },
    "hidden": true
   },
   "outputs": [
    {
     "name": "stdout",
     "output_type": "stream",
     "text": [
      "Accuracy: 59.55\n",
      "F1-Score: 0.130\n"
     ]
    }
   ],
   "source": [
    "KNN = make_pipeline(StandardScaler(), KNeighborsClassifier(n_neighbors=5))\n",
    "evaluation(KNN)"
   ]
  },
  {
   "cell_type": "code",
   "execution_count": 145,
   "metadata": {
    "ExecuteTime": {
     "end_time": "2021-07-16T20:54:24.603655Z",
     "start_time": "2021-07-16T20:54:23.374943Z"
    },
    "hidden": true
   },
   "outputs": [
    {
     "name": "stdout",
     "output_type": "stream",
     "text": [
      "Accuracy: 59.87\n",
      "F1-Score: 0.117\n"
     ]
    }
   ],
   "source": [
    "LG = make_pipeline(StandardScaler(), LogisticRegression(max_iter=5000))\n",
    "evaluation(LG)"
   ]
  },
  {
   "cell_type": "code",
   "execution_count": 146,
   "metadata": {
    "ExecuteTime": {
     "end_time": "2021-07-16T20:57:47.634242Z",
     "start_time": "2021-07-16T20:54:24.725331Z"
    },
    "hidden": true,
    "scrolled": true
   },
   "outputs": [
    {
     "name": "stderr",
     "output_type": "stream",
     "text": [
      "C:\\Users\\Idriss\\anaconda3\\lib\\site-packages\\sklearn\\model_selection\\_split.py:670: UserWarning: The least populated class in y has only 1 members, which is less than n_splits=5.\n",
      "  warnings.warn((\"The least populated class in y has only %d\"\n",
      "C:\\Users\\Idriss\\anaconda3\\lib\\site-packages\\sklearn\\model_selection\\_validation.py:901: RuntimeWarning: Number of classes in training fold (33) does not match total number of classes (36). Results may not be appropriate for your use case. To fix this, use a cross-validation technique resulting in properly stratified folds\n",
      "  warnings.warn('Number of classes in training fold ({}) does '\n",
      "C:\\Users\\Idriss\\anaconda3\\lib\\site-packages\\sklearn\\model_selection\\_validation.py:901: RuntimeWarning: Number of classes in training fold (34) does not match total number of classes (36). Results may not be appropriate for your use case. To fix this, use a cross-validation technique resulting in properly stratified folds\n",
      "  warnings.warn('Number of classes in training fold ({}) does '\n",
      "C:\\Users\\Idriss\\anaconda3\\lib\\site-packages\\sklearn\\model_selection\\_validation.py:901: RuntimeWarning: Number of classes in training fold (34) does not match total number of classes (36). Results may not be appropriate for your use case. To fix this, use a cross-validation technique resulting in properly stratified folds\n",
      "  warnings.warn('Number of classes in training fold ({}) does '\n",
      "C:\\Users\\Idriss\\anaconda3\\lib\\site-packages\\sklearn\\model_selection\\_validation.py:901: RuntimeWarning: Number of classes in training fold (35) does not match total number of classes (36). Results may not be appropriate for your use case. To fix this, use a cross-validation technique resulting in properly stratified folds\n",
      "  warnings.warn('Number of classes in training fold ({}) does '\n",
      "C:\\Users\\Idriss\\anaconda3\\lib\\site-packages\\sklearn\\model_selection\\_validation.py:901: RuntimeWarning: Number of classes in training fold (35) does not match total number of classes (36). Results may not be appropriate for your use case. To fix this, use a cross-validation technique resulting in properly stratified folds\n",
      "  warnings.warn('Number of classes in training fold ({}) does '\n",
      "C:\\Users\\Idriss\\anaconda3\\lib\\site-packages\\sklearn\\model_selection\\_split.py:670: UserWarning: The least populated class in y has only 1 members, which is less than n_splits=5.\n",
      "  warnings.warn((\"The least populated class in y has only %d\"\n",
      "C:\\Users\\Idriss\\anaconda3\\lib\\site-packages\\sklearn\\model_selection\\_validation.py:901: RuntimeWarning: Number of classes in training fold (33) does not match total number of classes (36). Results may not be appropriate for your use case. To fix this, use a cross-validation technique resulting in properly stratified folds\n",
      "  warnings.warn('Number of classes in training fold ({}) does '\n",
      "C:\\Users\\Idriss\\anaconda3\\lib\\site-packages\\sklearn\\model_selection\\_validation.py:901: RuntimeWarning: Number of classes in training fold (34) does not match total number of classes (36). Results may not be appropriate for your use case. To fix this, use a cross-validation technique resulting in properly stratified folds\n",
      "  warnings.warn('Number of classes in training fold ({}) does '\n",
      "C:\\Users\\Idriss\\anaconda3\\lib\\site-packages\\sklearn\\model_selection\\_validation.py:901: RuntimeWarning: Number of classes in training fold (34) does not match total number of classes (36). Results may not be appropriate for your use case. To fix this, use a cross-validation technique resulting in properly stratified folds\n",
      "  warnings.warn('Number of classes in training fold ({}) does '\n",
      "C:\\Users\\Idriss\\anaconda3\\lib\\site-packages\\sklearn\\model_selection\\_validation.py:901: RuntimeWarning: Number of classes in training fold (35) does not match total number of classes (36). Results may not be appropriate for your use case. To fix this, use a cross-validation technique resulting in properly stratified folds\n",
      "  warnings.warn('Number of classes in training fold ({}) does '\n",
      "C:\\Users\\Idriss\\anaconda3\\lib\\site-packages\\sklearn\\model_selection\\_validation.py:901: RuntimeWarning: Number of classes in training fold (35) does not match total number of classes (36). Results may not be appropriate for your use case. To fix this, use a cross-validation technique resulting in properly stratified folds\n",
      "  warnings.warn('Number of classes in training fold ({}) does '\n",
      "C:\\Users\\Idriss\\anaconda3\\lib\\site-packages\\sklearn\\model_selection\\_split.py:670: UserWarning: The least populated class in y has only 1 members, which is less than n_splits=5.\n",
      "  warnings.warn((\"The least populated class in y has only %d\"\n",
      "C:\\Users\\Idriss\\anaconda3\\lib\\site-packages\\sklearn\\model_selection\\_validation.py:901: RuntimeWarning: Number of classes in training fold (33) does not match total number of classes (36). Results may not be appropriate for your use case. To fix this, use a cross-validation technique resulting in properly stratified folds\n",
      "  warnings.warn('Number of classes in training fold ({}) does '\n",
      "C:\\Users\\Idriss\\anaconda3\\lib\\site-packages\\sklearn\\model_selection\\_validation.py:901: RuntimeWarning: Number of classes in training fold (34) does not match total number of classes (36). Results may not be appropriate for your use case. To fix this, use a cross-validation technique resulting in properly stratified folds\n",
      "  warnings.warn('Number of classes in training fold ({}) does '\n",
      "C:\\Users\\Idriss\\anaconda3\\lib\\site-packages\\sklearn\\model_selection\\_validation.py:901: RuntimeWarning: Number of classes in training fold (34) does not match total number of classes (36). Results may not be appropriate for your use case. To fix this, use a cross-validation technique resulting in properly stratified folds\n",
      "  warnings.warn('Number of classes in training fold ({}) does '\n",
      "C:\\Users\\Idriss\\anaconda3\\lib\\site-packages\\sklearn\\model_selection\\_validation.py:901: RuntimeWarning: Number of classes in training fold (35) does not match total number of classes (36). Results may not be appropriate for your use case. To fix this, use a cross-validation technique resulting in properly stratified folds\n",
      "  warnings.warn('Number of classes in training fold ({}) does '\n",
      "C:\\Users\\Idriss\\anaconda3\\lib\\site-packages\\sklearn\\model_selection\\_validation.py:901: RuntimeWarning: Number of classes in training fold (35) does not match total number of classes (36). Results may not be appropriate for your use case. To fix this, use a cross-validation technique resulting in properly stratified folds\n",
      "  warnings.warn('Number of classes in training fold ({}) does '\n",
      "C:\\Users\\Idriss\\anaconda3\\lib\\site-packages\\sklearn\\model_selection\\_split.py:670: UserWarning: The least populated class in y has only 1 members, which is less than n_splits=5.\n",
      "  warnings.warn((\"The least populated class in y has only %d\"\n",
      "C:\\Users\\Idriss\\anaconda3\\lib\\site-packages\\sklearn\\model_selection\\_validation.py:901: RuntimeWarning: Number of classes in training fold (33) does not match total number of classes (36). Results may not be appropriate for your use case. To fix this, use a cross-validation technique resulting in properly stratified folds\n",
      "  warnings.warn('Number of classes in training fold ({}) does '\n",
      "C:\\Users\\Idriss\\anaconda3\\lib\\site-packages\\sklearn\\model_selection\\_validation.py:901: RuntimeWarning: Number of classes in training fold (34) does not match total number of classes (36). Results may not be appropriate for your use case. To fix this, use a cross-validation technique resulting in properly stratified folds\n",
      "  warnings.warn('Number of classes in training fold ({}) does '\n",
      "C:\\Users\\Idriss\\anaconda3\\lib\\site-packages\\sklearn\\model_selection\\_validation.py:901: RuntimeWarning: Number of classes in training fold (34) does not match total number of classes (36). Results may not be appropriate for your use case. To fix this, use a cross-validation technique resulting in properly stratified folds\n",
      "  warnings.warn('Number of classes in training fold ({}) does '\n",
      "C:\\Users\\Idriss\\anaconda3\\lib\\site-packages\\sklearn\\model_selection\\_validation.py:901: RuntimeWarning: Number of classes in training fold (35) does not match total number of classes (36). Results may not be appropriate for your use case. To fix this, use a cross-validation technique resulting in properly stratified folds\n",
      "  warnings.warn('Number of classes in training fold ({}) does '\n",
      "C:\\Users\\Idriss\\anaconda3\\lib\\site-packages\\sklearn\\model_selection\\_validation.py:901: RuntimeWarning: Number of classes in training fold (35) does not match total number of classes (36). Results may not be appropriate for your use case. To fix this, use a cross-validation technique resulting in properly stratified folds\n",
      "  warnings.warn('Number of classes in training fold ({}) does '\n"
     ]
    },
    {
     "ename": "ValueError",
     "evalue": "Input contains NaN, infinity or a value too large for dtype('float32').",
     "output_type": "error",
     "traceback": [
      "\u001b[1;31m---------------------------------------------------------------------------\u001b[0m",
      "\u001b[1;31mValueError\u001b[0m                                Traceback (most recent call last)",
      "\u001b[1;32m<ipython-input-146-18f058dfed44>\u001b[0m in \u001b[0;36m<module>\u001b[1;34m\u001b[0m\n\u001b[0;32m      5\u001b[0m                              final_estimator=DecisionTreeClassifier())\n\u001b[0;32m      6\u001b[0m \u001b[1;33m\u001b[0m\u001b[0m\n\u001b[1;32m----> 7\u001b[1;33m \u001b[0mevaluation\u001b[0m\u001b[1;33m(\u001b[0m\u001b[0mmodel\u001b[0m\u001b[1;33m)\u001b[0m\u001b[1;33m\u001b[0m\u001b[1;33m\u001b[0m\u001b[0m\n\u001b[0m",
      "\u001b[1;32m<ipython-input-139-06bf53bc412f>\u001b[0m in \u001b[0;36mevaluation\u001b[1;34m(model)\u001b[0m\n\u001b[0;32m      1\u001b[0m \u001b[1;32mdef\u001b[0m \u001b[0mevaluation\u001b[0m\u001b[1;33m(\u001b[0m\u001b[0mmodel\u001b[0m\u001b[1;33m)\u001b[0m\u001b[1;33m:\u001b[0m\u001b[1;33m\u001b[0m\u001b[1;33m\u001b[0m\u001b[0m\n\u001b[0;32m      2\u001b[0m \u001b[1;33m\u001b[0m\u001b[0m\n\u001b[1;32m----> 3\u001b[1;33m     \u001b[0mmodel\u001b[0m\u001b[1;33m.\u001b[0m\u001b[0mfit\u001b[0m\u001b[1;33m(\u001b[0m\u001b[0mtrain_x\u001b[0m\u001b[1;33m,\u001b[0m \u001b[0mtrain_y\u001b[0m\u001b[1;33m)\u001b[0m\u001b[1;33m\u001b[0m\u001b[1;33m\u001b[0m\u001b[0m\n\u001b[0m\u001b[0;32m      4\u001b[0m     \u001b[0my_pred\u001b[0m \u001b[1;33m=\u001b[0m \u001b[0mmodel\u001b[0m\u001b[1;33m.\u001b[0m\u001b[0mpredict\u001b[0m\u001b[1;33m(\u001b[0m\u001b[0mtest_x\u001b[0m\u001b[1;33m)\u001b[0m\u001b[1;33m\u001b[0m\u001b[1;33m\u001b[0m\u001b[0m\n\u001b[0;32m      5\u001b[0m     \u001b[0macc\u001b[0m \u001b[1;33m=\u001b[0m \u001b[0maccuracy_score\u001b[0m\u001b[1;33m(\u001b[0m\u001b[0mtest_y\u001b[0m\u001b[1;33m,\u001b[0m \u001b[0my_pred\u001b[0m\u001b[1;33m)\u001b[0m\u001b[1;33m\u001b[0m\u001b[1;33m\u001b[0m\u001b[0m\n",
      "\u001b[1;32m~\\anaconda3\\lib\\site-packages\\sklearn\\ensemble\\_stacking.py\u001b[0m in \u001b[0;36mfit\u001b[1;34m(self, X, y, sample_weight)\u001b[0m\n\u001b[0;32m    434\u001b[0m         \u001b[0mself\u001b[0m\u001b[1;33m.\u001b[0m\u001b[0m_le\u001b[0m \u001b[1;33m=\u001b[0m \u001b[0mLabelEncoder\u001b[0m\u001b[1;33m(\u001b[0m\u001b[1;33m)\u001b[0m\u001b[1;33m.\u001b[0m\u001b[0mfit\u001b[0m\u001b[1;33m(\u001b[0m\u001b[0my\u001b[0m\u001b[1;33m)\u001b[0m\u001b[1;33m\u001b[0m\u001b[1;33m\u001b[0m\u001b[0m\n\u001b[0;32m    435\u001b[0m         \u001b[0mself\u001b[0m\u001b[1;33m.\u001b[0m\u001b[0mclasses_\u001b[0m \u001b[1;33m=\u001b[0m \u001b[0mself\u001b[0m\u001b[1;33m.\u001b[0m\u001b[0m_le\u001b[0m\u001b[1;33m.\u001b[0m\u001b[0mclasses_\u001b[0m\u001b[1;33m\u001b[0m\u001b[1;33m\u001b[0m\u001b[0m\n\u001b[1;32m--> 436\u001b[1;33m         \u001b[1;32mreturn\u001b[0m \u001b[0msuper\u001b[0m\u001b[1;33m(\u001b[0m\u001b[1;33m)\u001b[0m\u001b[1;33m.\u001b[0m\u001b[0mfit\u001b[0m\u001b[1;33m(\u001b[0m\u001b[0mX\u001b[0m\u001b[1;33m,\u001b[0m \u001b[0mself\u001b[0m\u001b[1;33m.\u001b[0m\u001b[0m_le\u001b[0m\u001b[1;33m.\u001b[0m\u001b[0mtransform\u001b[0m\u001b[1;33m(\u001b[0m\u001b[0my\u001b[0m\u001b[1;33m)\u001b[0m\u001b[1;33m,\u001b[0m \u001b[0msample_weight\u001b[0m\u001b[1;33m)\u001b[0m\u001b[1;33m\u001b[0m\u001b[1;33m\u001b[0m\u001b[0m\n\u001b[0m\u001b[0;32m    437\u001b[0m \u001b[1;33m\u001b[0m\u001b[0m\n\u001b[0;32m    438\u001b[0m     \u001b[1;33m@\u001b[0m\u001b[0mif_delegate_has_method\u001b[0m\u001b[1;33m(\u001b[0m\u001b[0mdelegate\u001b[0m\u001b[1;33m=\u001b[0m\u001b[1;34m'final_estimator_'\u001b[0m\u001b[1;33m)\u001b[0m\u001b[1;33m\u001b[0m\u001b[1;33m\u001b[0m\u001b[0m\n",
      "\u001b[1;32m~\\anaconda3\\lib\\site-packages\\sklearn\\ensemble\\_stacking.py\u001b[0m in \u001b[0;36mfit\u001b[1;34m(self, X, y, sample_weight)\u001b[0m\n\u001b[0;32m    193\u001b[0m \u001b[1;33m\u001b[0m\u001b[0m\n\u001b[0;32m    194\u001b[0m         \u001b[0mX_meta\u001b[0m \u001b[1;33m=\u001b[0m \u001b[0mself\u001b[0m\u001b[1;33m.\u001b[0m\u001b[0m_concatenate_predictions\u001b[0m\u001b[1;33m(\u001b[0m\u001b[0mX\u001b[0m\u001b[1;33m,\u001b[0m \u001b[0mpredictions\u001b[0m\u001b[1;33m)\u001b[0m\u001b[1;33m\u001b[0m\u001b[1;33m\u001b[0m\u001b[0m\n\u001b[1;32m--> 195\u001b[1;33m         _fit_single_estimator(self.final_estimator_, X_meta, y,\n\u001b[0m\u001b[0;32m    196\u001b[0m                               sample_weight=sample_weight)\n\u001b[0;32m    197\u001b[0m \u001b[1;33m\u001b[0m\u001b[0m\n",
      "\u001b[1;32m~\\anaconda3\\lib\\site-packages\\sklearn\\ensemble\\_base.py\u001b[0m in \u001b[0;36m_fit_single_estimator\u001b[1;34m(estimator, X, y, sample_weight, message_clsname, message)\u001b[0m\n\u001b[0;32m     38\u001b[0m     \u001b[1;32melse\u001b[0m\u001b[1;33m:\u001b[0m\u001b[1;33m\u001b[0m\u001b[1;33m\u001b[0m\u001b[0m\n\u001b[0;32m     39\u001b[0m         \u001b[1;32mwith\u001b[0m \u001b[0m_print_elapsed_time\u001b[0m\u001b[1;33m(\u001b[0m\u001b[0mmessage_clsname\u001b[0m\u001b[1;33m,\u001b[0m \u001b[0mmessage\u001b[0m\u001b[1;33m)\u001b[0m\u001b[1;33m:\u001b[0m\u001b[1;33m\u001b[0m\u001b[1;33m\u001b[0m\u001b[0m\n\u001b[1;32m---> 40\u001b[1;33m             \u001b[0mestimator\u001b[0m\u001b[1;33m.\u001b[0m\u001b[0mfit\u001b[0m\u001b[1;33m(\u001b[0m\u001b[0mX\u001b[0m\u001b[1;33m,\u001b[0m \u001b[0my\u001b[0m\u001b[1;33m)\u001b[0m\u001b[1;33m\u001b[0m\u001b[1;33m\u001b[0m\u001b[0m\n\u001b[0m\u001b[0;32m     41\u001b[0m     \u001b[1;32mreturn\u001b[0m \u001b[0mestimator\u001b[0m\u001b[1;33m\u001b[0m\u001b[1;33m\u001b[0m\u001b[0m\n\u001b[0;32m     42\u001b[0m \u001b[1;33m\u001b[0m\u001b[0m\n",
      "\u001b[1;32m~\\anaconda3\\lib\\site-packages\\sklearn\\tree\\_classes.py\u001b[0m in \u001b[0;36mfit\u001b[1;34m(self, X, y, sample_weight, check_input, X_idx_sorted)\u001b[0m\n\u001b[0;32m    888\u001b[0m         \"\"\"\n\u001b[0;32m    889\u001b[0m \u001b[1;33m\u001b[0m\u001b[0m\n\u001b[1;32m--> 890\u001b[1;33m         super().fit(\n\u001b[0m\u001b[0;32m    891\u001b[0m             \u001b[0mX\u001b[0m\u001b[1;33m,\u001b[0m \u001b[0my\u001b[0m\u001b[1;33m,\u001b[0m\u001b[1;33m\u001b[0m\u001b[1;33m\u001b[0m\u001b[0m\n\u001b[0;32m    892\u001b[0m             \u001b[0msample_weight\u001b[0m\u001b[1;33m=\u001b[0m\u001b[0msample_weight\u001b[0m\u001b[1;33m,\u001b[0m\u001b[1;33m\u001b[0m\u001b[1;33m\u001b[0m\u001b[0m\n",
      "\u001b[1;32m~\\anaconda3\\lib\\site-packages\\sklearn\\tree\\_classes.py\u001b[0m in \u001b[0;36mfit\u001b[1;34m(self, X, y, sample_weight, check_input, X_idx_sorted)\u001b[0m\n\u001b[0;32m    154\u001b[0m             \u001b[0mcheck_X_params\u001b[0m \u001b[1;33m=\u001b[0m \u001b[0mdict\u001b[0m\u001b[1;33m(\u001b[0m\u001b[0mdtype\u001b[0m\u001b[1;33m=\u001b[0m\u001b[0mDTYPE\u001b[0m\u001b[1;33m,\u001b[0m \u001b[0maccept_sparse\u001b[0m\u001b[1;33m=\u001b[0m\u001b[1;34m\"csc\"\u001b[0m\u001b[1;33m)\u001b[0m\u001b[1;33m\u001b[0m\u001b[1;33m\u001b[0m\u001b[0m\n\u001b[0;32m    155\u001b[0m             \u001b[0mcheck_y_params\u001b[0m \u001b[1;33m=\u001b[0m \u001b[0mdict\u001b[0m\u001b[1;33m(\u001b[0m\u001b[0mensure_2d\u001b[0m\u001b[1;33m=\u001b[0m\u001b[1;32mFalse\u001b[0m\u001b[1;33m,\u001b[0m \u001b[0mdtype\u001b[0m\u001b[1;33m=\u001b[0m\u001b[1;32mNone\u001b[0m\u001b[1;33m)\u001b[0m\u001b[1;33m\u001b[0m\u001b[1;33m\u001b[0m\u001b[0m\n\u001b[1;32m--> 156\u001b[1;33m             X, y = self._validate_data(X, y,\n\u001b[0m\u001b[0;32m    157\u001b[0m                                        validate_separately=(check_X_params,\n\u001b[0;32m    158\u001b[0m                                                             check_y_params))\n",
      "\u001b[1;32m~\\anaconda3\\lib\\site-packages\\sklearn\\base.py\u001b[0m in \u001b[0;36m_validate_data\u001b[1;34m(self, X, y, reset, validate_separately, **check_params)\u001b[0m\n\u001b[0;32m    427\u001b[0m                 \u001b[1;31m# :(\u001b[0m\u001b[1;33m\u001b[0m\u001b[1;33m\u001b[0m\u001b[1;33m\u001b[0m\u001b[0m\n\u001b[0;32m    428\u001b[0m                 \u001b[0mcheck_X_params\u001b[0m\u001b[1;33m,\u001b[0m \u001b[0mcheck_y_params\u001b[0m \u001b[1;33m=\u001b[0m \u001b[0mvalidate_separately\u001b[0m\u001b[1;33m\u001b[0m\u001b[1;33m\u001b[0m\u001b[0m\n\u001b[1;32m--> 429\u001b[1;33m                 \u001b[0mX\u001b[0m \u001b[1;33m=\u001b[0m \u001b[0mcheck_array\u001b[0m\u001b[1;33m(\u001b[0m\u001b[0mX\u001b[0m\u001b[1;33m,\u001b[0m \u001b[1;33m**\u001b[0m\u001b[0mcheck_X_params\u001b[0m\u001b[1;33m)\u001b[0m\u001b[1;33m\u001b[0m\u001b[1;33m\u001b[0m\u001b[0m\n\u001b[0m\u001b[0;32m    430\u001b[0m                 \u001b[0my\u001b[0m \u001b[1;33m=\u001b[0m \u001b[0mcheck_array\u001b[0m\u001b[1;33m(\u001b[0m\u001b[0my\u001b[0m\u001b[1;33m,\u001b[0m \u001b[1;33m**\u001b[0m\u001b[0mcheck_y_params\u001b[0m\u001b[1;33m)\u001b[0m\u001b[1;33m\u001b[0m\u001b[1;33m\u001b[0m\u001b[0m\n\u001b[0;32m    431\u001b[0m             \u001b[1;32melse\u001b[0m\u001b[1;33m:\u001b[0m\u001b[1;33m\u001b[0m\u001b[1;33m\u001b[0m\u001b[0m\n",
      "\u001b[1;32m~\\anaconda3\\lib\\site-packages\\sklearn\\utils\\validation.py\u001b[0m in \u001b[0;36minner_f\u001b[1;34m(*args, **kwargs)\u001b[0m\n\u001b[0;32m     70\u001b[0m                           FutureWarning)\n\u001b[0;32m     71\u001b[0m         \u001b[0mkwargs\u001b[0m\u001b[1;33m.\u001b[0m\u001b[0mupdate\u001b[0m\u001b[1;33m(\u001b[0m\u001b[1;33m{\u001b[0m\u001b[0mk\u001b[0m\u001b[1;33m:\u001b[0m \u001b[0marg\u001b[0m \u001b[1;32mfor\u001b[0m \u001b[0mk\u001b[0m\u001b[1;33m,\u001b[0m \u001b[0marg\u001b[0m \u001b[1;32min\u001b[0m \u001b[0mzip\u001b[0m\u001b[1;33m(\u001b[0m\u001b[0msig\u001b[0m\u001b[1;33m.\u001b[0m\u001b[0mparameters\u001b[0m\u001b[1;33m,\u001b[0m \u001b[0margs\u001b[0m\u001b[1;33m)\u001b[0m\u001b[1;33m}\u001b[0m\u001b[1;33m)\u001b[0m\u001b[1;33m\u001b[0m\u001b[1;33m\u001b[0m\u001b[0m\n\u001b[1;32m---> 72\u001b[1;33m         \u001b[1;32mreturn\u001b[0m \u001b[0mf\u001b[0m\u001b[1;33m(\u001b[0m\u001b[1;33m**\u001b[0m\u001b[0mkwargs\u001b[0m\u001b[1;33m)\u001b[0m\u001b[1;33m\u001b[0m\u001b[1;33m\u001b[0m\u001b[0m\n\u001b[0m\u001b[0;32m     73\u001b[0m     \u001b[1;32mreturn\u001b[0m \u001b[0minner_f\u001b[0m\u001b[1;33m\u001b[0m\u001b[1;33m\u001b[0m\u001b[0m\n\u001b[0;32m     74\u001b[0m \u001b[1;33m\u001b[0m\u001b[0m\n",
      "\u001b[1;32m~\\anaconda3\\lib\\site-packages\\sklearn\\utils\\validation.py\u001b[0m in \u001b[0;36mcheck_array\u001b[1;34m(array, accept_sparse, accept_large_sparse, dtype, order, copy, force_all_finite, ensure_2d, allow_nd, ensure_min_samples, ensure_min_features, estimator)\u001b[0m\n\u001b[0;32m    642\u001b[0m \u001b[1;33m\u001b[0m\u001b[0m\n\u001b[0;32m    643\u001b[0m         \u001b[1;32mif\u001b[0m \u001b[0mforce_all_finite\u001b[0m\u001b[1;33m:\u001b[0m\u001b[1;33m\u001b[0m\u001b[1;33m\u001b[0m\u001b[0m\n\u001b[1;32m--> 644\u001b[1;33m             _assert_all_finite(array,\n\u001b[0m\u001b[0;32m    645\u001b[0m                                allow_nan=force_all_finite == 'allow-nan')\n\u001b[0;32m    646\u001b[0m \u001b[1;33m\u001b[0m\u001b[0m\n",
      "\u001b[1;32m~\\anaconda3\\lib\\site-packages\\sklearn\\utils\\validation.py\u001b[0m in \u001b[0;36m_assert_all_finite\u001b[1;34m(X, allow_nan, msg_dtype)\u001b[0m\n\u001b[0;32m     94\u001b[0m                 not allow_nan and not np.isfinite(X).all()):\n\u001b[0;32m     95\u001b[0m             \u001b[0mtype_err\u001b[0m \u001b[1;33m=\u001b[0m \u001b[1;34m'infinity'\u001b[0m \u001b[1;32mif\u001b[0m \u001b[0mallow_nan\u001b[0m \u001b[1;32melse\u001b[0m \u001b[1;34m'NaN, infinity'\u001b[0m\u001b[1;33m\u001b[0m\u001b[1;33m\u001b[0m\u001b[0m\n\u001b[1;32m---> 96\u001b[1;33m             raise ValueError(\n\u001b[0m\u001b[0;32m     97\u001b[0m                     \u001b[0mmsg_err\u001b[0m\u001b[1;33m.\u001b[0m\u001b[0mformat\u001b[0m\u001b[1;33m\u001b[0m\u001b[1;33m\u001b[0m\u001b[0m\n\u001b[0;32m     98\u001b[0m                     (type_err,\n",
      "\u001b[1;31mValueError\u001b[0m: Input contains NaN, infinity or a value too large for dtype('float32')."
     ]
    }
   ],
   "source": [
    "model = StackingClassifier([('SVM', SVM),\n",
    "                            ('RFC', RFC),\n",
    "                            ('GBC', GBC),\n",
    "                           ('KNN', KNN)],\n",
    "                             final_estimator=DecisionTreeClassifier())\n",
    "\n",
    "evaluation(model)"
   ]
  },
  {
   "cell_type": "code",
   "execution_count": 378,
   "metadata": {
    "ExecuteTime": {
     "end_time": "2021-07-14T23:11:16.170373Z",
     "start_time": "2021-07-14T23:11:04.451429Z"
    },
    "hidden": true
   },
   "outputs": [
    {
     "data": {
      "text/plain": [
       "BaggingClassifier(base_estimator=SVC(), n_estimators=100)"
      ]
     },
     "execution_count": 378,
     "metadata": {},
     "output_type": "execute_result"
    }
   ],
   "source": [
    "from sklearn.ensemble import BaggingClassifier, RandomForestClassifier\n",
    "\n",
    "model = BaggingClassifier(base_estimator=SVC(),\n",
    "                         n_estimators=100)\n",
    "\n",
    "model.fit(train.drop(['creator'],axis=1), train[\"creator\"])"
   ]
  },
  {
   "cell_type": "markdown",
   "metadata": {
    "heading_collapsed": true
   },
   "source": [
    "## Splitting"
   ]
  },
  {
   "cell_type": "code",
   "execution_count": 451,
   "metadata": {
    "ExecuteTime": {
     "end_time": "2021-07-19T12:17:18.211478Z",
     "start_time": "2021-07-19T12:17:18.205457Z"
    },
    "hidden": true
   },
   "outputs": [],
   "source": [
    "train_x, test_x,train_y,test_y = train_test_split(df['history_text'],df['creator'],test_size = 0.2,random_state = 0)"
   ]
  },
  {
   "cell_type": "code",
   "execution_count": 452,
   "metadata": {
    "ExecuteTime": {
     "end_time": "2021-07-19T12:17:19.368941Z",
     "start_time": "2021-07-19T12:17:19.360963Z"
    },
    "hidden": true
   },
   "outputs": [],
   "source": [
    "def eval_text(model):\n",
    "    model.fit(train_x, train_y)\n",
    "    y_pred = model.predict(test_x)\n",
    "    acc = accuracy_score(test_y, y_pred)\n",
    "    print(\"Accuracy: {:.2f}\".format(acc*100))\n",
    "    f1 = f1_score(test_y, y_pred, average='macro')\n",
    "    print('F1-Score: %.2f' % (f1*100))"
   ]
  },
  {
   "cell_type": "markdown",
   "metadata": {
    "heading_collapsed": true
   },
   "source": [
    "##  train withText"
   ]
  },
  {
   "cell_type": "code",
   "execution_count": 450,
   "metadata": {
    "ExecuteTime": {
     "end_time": "2021-07-19T12:17:16.160144Z",
     "start_time": "2021-07-19T12:17:10.668459Z"
    },
    "collapsed": true,
    "hidden": true
   },
   "outputs": [
    {
     "name": "stdout",
     "output_type": "stream",
     "text": [
      "1 / 1233\n",
      "2 / 1233\n",
      "3 / 1233\n",
      "4 / 1233\n",
      "5 / 1233\n",
      "6 / 1233\n",
      "7 / 1233\n",
      "8 / 1233\n",
      "9 / 1233\n",
      "10 / 1233\n",
      "11 / 1233\n",
      "12 / 1233\n",
      "13 / 1233\n",
      "14 / 1233\n",
      "15 / 1233\n",
      "16 / 1233\n",
      "17 / 1233\n",
      "18 / 1233\n",
      "19 / 1233\n",
      "20 / 1233\n",
      "21 / 1233\n",
      "22 / 1233\n",
      "23 / 1233\n",
      "24 / 1233\n",
      "25 / 1233\n",
      "26 / 1233\n",
      "27 / 1233\n",
      "28 / 1233\n",
      "29 / 1233\n",
      "30 / 1233\n",
      "31 / 1233\n",
      "32 / 1233\n",
      "33 / 1233\n",
      "34 / 1233\n",
      "35 / 1233\n",
      "36 / 1233\n",
      "37 / 1233\n",
      "38 / 1233\n",
      "39 / 1233\n",
      "40 / 1233\n",
      "41 / 1233\n",
      "42 / 1233\n",
      "43 / 1233\n",
      "44 / 1233\n",
      "45 / 1233\n",
      "46 / 1233\n",
      "47 / 1233\n",
      "48 / 1233\n",
      "49 / 1233\n",
      "50 / 1233\n",
      "51 / 1233\n",
      "52 / 1233\n",
      "53 / 1233\n",
      "54 / 1233\n",
      "55 / 1233\n",
      "56 / 1233\n",
      "57 / 1233\n",
      "58 / 1233\n",
      "59 / 1233\n",
      "60 / 1233\n",
      "61 / 1233\n",
      "62 / 1233\n",
      "63 / 1233\n",
      "64 / 1233\n",
      "65 / 1233\n",
      "66 / 1233\n",
      "67 / 1233\n",
      "68 / 1233\n",
      "69 / 1233\n",
      "70 / 1233\n",
      "71 / 1233\n",
      "72 / 1233\n",
      "73 / 1233\n",
      "74 / 1233\n",
      "75 / 1233\n",
      "76 / 1233\n",
      "77 / 1233\n",
      "78 / 1233\n",
      "79 / 1233\n",
      "80 / 1233\n",
      "81 / 1233\n",
      "82 / 1233\n",
      "83 / 1233\n",
      "84 / 1233\n",
      "85 / 1233\n",
      "86 / 1233\n",
      "87 / 1233\n",
      "88 / 1233\n",
      "89 / 1233\n",
      "90 / 1233\n",
      "91 / 1233\n",
      "92 / 1233\n",
      "93 / 1233\n",
      "94 / 1233\n",
      "95 / 1233\n",
      "96 / 1233\n",
      "97 / 1233\n",
      "98 / 1233\n",
      "99 / 1233\n",
      "100 / 1233\n",
      "101 / 1233\n",
      "102 / 1233\n",
      "103 / 1233\n",
      "104 / 1233\n",
      "105 / 1233\n",
      "106 / 1233\n",
      "107 / 1233\n",
      "108 / 1233\n",
      "109 / 1233\n",
      "110 / 1233\n",
      "111 / 1233\n",
      "112 / 1233\n",
      "113 / 1233\n",
      "114 / 1233\n",
      "115 / 1233\n",
      "116 / 1233\n",
      "117 / 1233\n",
      "118 / 1233\n",
      "119 / 1233\n",
      "120 / 1233\n",
      "121 / 1233\n",
      "122 / 1233\n",
      "123 / 1233\n",
      "124 / 1233\n",
      "125 / 1233\n",
      "126 / 1233\n",
      "127 / 1233\n",
      "128 / 1233\n",
      "129 / 1233\n",
      "130 / 1233\n",
      "131 / 1233\n",
      "132 / 1233\n",
      "133 / 1233\n",
      "134 / 1233\n",
      "135 / 1233\n",
      "136 / 1233\n",
      "137 / 1233\n",
      "138 / 1233\n",
      "139 / 1233\n",
      "140 / 1233\n",
      "141 / 1233\n",
      "142 / 1233\n",
      "143 / 1233\n",
      "144 / 1233\n",
      "145 / 1233\n",
      "146 / 1233\n",
      "147 / 1233\n",
      "148 / 1233\n",
      "149 / 1233\n",
      "150 / 1233\n",
      "151 / 1233\n",
      "152 / 1233\n",
      "153 / 1233\n",
      "154 / 1233\n",
      "155 / 1233\n",
      "156 / 1233\n",
      "157 / 1233\n",
      "158 / 1233\n",
      "159 / 1233\n",
      "160 / 1233\n",
      "161 / 1233\n",
      "162 / 1233\n",
      "163 / 1233\n",
      "164 / 1233\n",
      "165 / 1233\n",
      "166 / 1233\n",
      "167 / 1233\n",
      "168 / 1233\n",
      "169 / 1233\n",
      "170 / 1233\n",
      "171 / 1233\n",
      "172 / 1233\n",
      "173 / 1233\n",
      "174 / 1233\n",
      "175 / 1233\n",
      "176 / 1233\n",
      "177 / 1233\n",
      "178 / 1233\n",
      "179 / 1233\n",
      "180 / 1233\n",
      "181 / 1233\n",
      "182 / 1233\n",
      "183 / 1233\n",
      "184 / 1233\n",
      "185 / 1233\n",
      "186 / 1233\n",
      "187 / 1233\n",
      "188 / 1233\n",
      "189 / 1233\n",
      "190 / 1233\n",
      "191 / 1233\n",
      "192 / 1233\n",
      "193 / 1233\n"
     ]
    },
    {
     "ename": "KeyboardInterrupt",
     "evalue": "",
     "output_type": "error",
     "traceback": [
      "\u001b[1;31m---------------------------------------------------------------------------\u001b[0m",
      "\u001b[1;31mKeyboardInterrupt\u001b[0m                         Traceback (most recent call last)",
      "\u001b[1;32m<ipython-input-450-30233aaf303a>\u001b[0m in \u001b[0;36m<module>\u001b[1;34m\u001b[0m\n\u001b[0;32m     21\u001b[0m     \u001b[1;32mreturn\u001b[0m \u001b[0mtext\u001b[0m\u001b[1;33m\u001b[0m\u001b[1;33m\u001b[0m\u001b[0m\n\u001b[0;32m     22\u001b[0m \u001b[1;33m\u001b[0m\u001b[0m\n\u001b[1;32m---> 23\u001b[1;33m \u001b[0mdf\u001b[0m\u001b[1;33m[\u001b[0m\u001b[1;34m\"history_text\"\u001b[0m\u001b[1;33m]\u001b[0m \u001b[1;33m=\u001b[0m \u001b[0mdf\u001b[0m\u001b[1;33m[\u001b[0m\u001b[1;34m\"history_text\"\u001b[0m\u001b[1;33m]\u001b[0m\u001b[1;33m.\u001b[0m\u001b[0mapply\u001b[0m\u001b[1;33m(\u001b[0m\u001b[0mpreprocess_text\u001b[0m\u001b[1;33m)\u001b[0m\u001b[1;33m\u001b[0m\u001b[1;33m\u001b[0m\u001b[0m\n\u001b[0m",
      "\u001b[1;32m~\\anaconda3\\lib\\site-packages\\pandas\\core\\series.py\u001b[0m in \u001b[0;36mapply\u001b[1;34m(self, func, convert_dtype, args, **kwds)\u001b[0m\n\u001b[0;32m   4198\u001b[0m             \u001b[1;32melse\u001b[0m\u001b[1;33m:\u001b[0m\u001b[1;33m\u001b[0m\u001b[1;33m\u001b[0m\u001b[0m\n\u001b[0;32m   4199\u001b[0m                 \u001b[0mvalues\u001b[0m \u001b[1;33m=\u001b[0m \u001b[0mself\u001b[0m\u001b[1;33m.\u001b[0m\u001b[0mastype\u001b[0m\u001b[1;33m(\u001b[0m\u001b[0mobject\u001b[0m\u001b[1;33m)\u001b[0m\u001b[1;33m.\u001b[0m\u001b[0m_values\u001b[0m\u001b[1;33m\u001b[0m\u001b[1;33m\u001b[0m\u001b[0m\n\u001b[1;32m-> 4200\u001b[1;33m                 \u001b[0mmapped\u001b[0m \u001b[1;33m=\u001b[0m \u001b[0mlib\u001b[0m\u001b[1;33m.\u001b[0m\u001b[0mmap_infer\u001b[0m\u001b[1;33m(\u001b[0m\u001b[0mvalues\u001b[0m\u001b[1;33m,\u001b[0m \u001b[0mf\u001b[0m\u001b[1;33m,\u001b[0m \u001b[0mconvert\u001b[0m\u001b[1;33m=\u001b[0m\u001b[0mconvert_dtype\u001b[0m\u001b[1;33m)\u001b[0m\u001b[1;33m\u001b[0m\u001b[1;33m\u001b[0m\u001b[0m\n\u001b[0m\u001b[0;32m   4201\u001b[0m \u001b[1;33m\u001b[0m\u001b[0m\n\u001b[0;32m   4202\u001b[0m         \u001b[1;32mif\u001b[0m \u001b[0mlen\u001b[0m\u001b[1;33m(\u001b[0m\u001b[0mmapped\u001b[0m\u001b[1;33m)\u001b[0m \u001b[1;32mand\u001b[0m \u001b[0misinstance\u001b[0m\u001b[1;33m(\u001b[0m\u001b[0mmapped\u001b[0m\u001b[1;33m[\u001b[0m\u001b[1;36m0\u001b[0m\u001b[1;33m]\u001b[0m\u001b[1;33m,\u001b[0m \u001b[0mSeries\u001b[0m\u001b[1;33m)\u001b[0m\u001b[1;33m:\u001b[0m\u001b[1;33m\u001b[0m\u001b[1;33m\u001b[0m\u001b[0m\n",
      "\u001b[1;32mpandas\\_libs\\lib.pyx\u001b[0m in \u001b[0;36mpandas._libs.lib.map_infer\u001b[1;34m()\u001b[0m\n",
      "\u001b[1;32m<ipython-input-450-30233aaf303a>\u001b[0m in \u001b[0;36mpreprocess_text\u001b[1;34m(text)\u001b[0m\n\u001b[0;32m     10\u001b[0m     \u001b[0mlst_text\u001b[0m \u001b[1;33m=\u001b[0m \u001b[1;33m[\u001b[0m\u001b[0mword\u001b[0m \u001b[1;32mfor\u001b[0m \u001b[0mword\u001b[0m \u001b[1;32min\u001b[0m \u001b[0mlst_text\u001b[0m \u001b[1;32mif\u001b[0m \u001b[0mword\u001b[0m \u001b[1;32mnot\u001b[0m \u001b[1;32min\u001b[0m \u001b[0mlst_stopwords\u001b[0m\u001b[1;33m]\u001b[0m\u001b[1;33m\u001b[0m\u001b[1;33m\u001b[0m\u001b[0m\n\u001b[0;32m     11\u001b[0m     \u001b[0mps\u001b[0m \u001b[1;33m=\u001b[0m \u001b[0mPorterStemmer\u001b[0m\u001b[1;33m(\u001b[0m\u001b[1;33m)\u001b[0m\u001b[1;33m\u001b[0m\u001b[1;33m\u001b[0m\u001b[0m\n\u001b[1;32m---> 12\u001b[1;33m     \u001b[0mlst_text\u001b[0m \u001b[1;33m=\u001b[0m \u001b[1;33m[\u001b[0m\u001b[0mps\u001b[0m\u001b[1;33m.\u001b[0m\u001b[0mstem\u001b[0m\u001b[1;33m(\u001b[0m\u001b[0mword\u001b[0m\u001b[1;33m)\u001b[0m \u001b[1;32mfor\u001b[0m \u001b[0mword\u001b[0m \u001b[1;32min\u001b[0m \u001b[0mlst_text\u001b[0m\u001b[1;33m]\u001b[0m\u001b[1;33m\u001b[0m\u001b[1;33m\u001b[0m\u001b[0m\n\u001b[0m\u001b[0;32m     13\u001b[0m     \u001b[0mlem\u001b[0m \u001b[1;33m=\u001b[0m \u001b[0mWordNetLemmatizer\u001b[0m\u001b[1;33m(\u001b[0m\u001b[1;33m)\u001b[0m\u001b[1;33m\u001b[0m\u001b[1;33m\u001b[0m\u001b[0m\n\u001b[0;32m     14\u001b[0m     \u001b[0mlst_text\u001b[0m \u001b[1;33m=\u001b[0m \u001b[1;33m[\u001b[0m\u001b[0mlem\u001b[0m\u001b[1;33m.\u001b[0m\u001b[0mlemmatize\u001b[0m\u001b[1;33m(\u001b[0m\u001b[0mword\u001b[0m\u001b[1;33m)\u001b[0m \u001b[1;32mfor\u001b[0m \u001b[0mword\u001b[0m \u001b[1;32min\u001b[0m \u001b[0mlst_text\u001b[0m\u001b[1;33m]\u001b[0m\u001b[1;33m\u001b[0m\u001b[1;33m\u001b[0m\u001b[0m\n",
      "\u001b[1;32m<ipython-input-450-30233aaf303a>\u001b[0m in \u001b[0;36m<listcomp>\u001b[1;34m(.0)\u001b[0m\n\u001b[0;32m     10\u001b[0m     \u001b[0mlst_text\u001b[0m \u001b[1;33m=\u001b[0m \u001b[1;33m[\u001b[0m\u001b[0mword\u001b[0m \u001b[1;32mfor\u001b[0m \u001b[0mword\u001b[0m \u001b[1;32min\u001b[0m \u001b[0mlst_text\u001b[0m \u001b[1;32mif\u001b[0m \u001b[0mword\u001b[0m \u001b[1;32mnot\u001b[0m \u001b[1;32min\u001b[0m \u001b[0mlst_stopwords\u001b[0m\u001b[1;33m]\u001b[0m\u001b[1;33m\u001b[0m\u001b[1;33m\u001b[0m\u001b[0m\n\u001b[0;32m     11\u001b[0m     \u001b[0mps\u001b[0m \u001b[1;33m=\u001b[0m \u001b[0mPorterStemmer\u001b[0m\u001b[1;33m(\u001b[0m\u001b[1;33m)\u001b[0m\u001b[1;33m\u001b[0m\u001b[1;33m\u001b[0m\u001b[0m\n\u001b[1;32m---> 12\u001b[1;33m     \u001b[0mlst_text\u001b[0m \u001b[1;33m=\u001b[0m \u001b[1;33m[\u001b[0m\u001b[0mps\u001b[0m\u001b[1;33m.\u001b[0m\u001b[0mstem\u001b[0m\u001b[1;33m(\u001b[0m\u001b[0mword\u001b[0m\u001b[1;33m)\u001b[0m \u001b[1;32mfor\u001b[0m \u001b[0mword\u001b[0m \u001b[1;32min\u001b[0m \u001b[0mlst_text\u001b[0m\u001b[1;33m]\u001b[0m\u001b[1;33m\u001b[0m\u001b[1;33m\u001b[0m\u001b[0m\n\u001b[0m\u001b[0;32m     13\u001b[0m     \u001b[0mlem\u001b[0m \u001b[1;33m=\u001b[0m \u001b[0mWordNetLemmatizer\u001b[0m\u001b[1;33m(\u001b[0m\u001b[1;33m)\u001b[0m\u001b[1;33m\u001b[0m\u001b[1;33m\u001b[0m\u001b[0m\n\u001b[0;32m     14\u001b[0m     \u001b[0mlst_text\u001b[0m \u001b[1;33m=\u001b[0m \u001b[1;33m[\u001b[0m\u001b[0mlem\u001b[0m\u001b[1;33m.\u001b[0m\u001b[0mlemmatize\u001b[0m\u001b[1;33m(\u001b[0m\u001b[0mword\u001b[0m\u001b[1;33m)\u001b[0m \u001b[1;32mfor\u001b[0m \u001b[0mword\u001b[0m \u001b[1;32min\u001b[0m \u001b[0mlst_text\u001b[0m\u001b[1;33m]\u001b[0m\u001b[1;33m\u001b[0m\u001b[1;33m\u001b[0m\u001b[0m\n",
      "\u001b[1;32m~\\anaconda3\\lib\\site-packages\\nltk\\stem\\porter.py\u001b[0m in \u001b[0;36mstem\u001b[1;34m(self, word)\u001b[0m\n\u001b[0;32m    663\u001b[0m         \u001b[0mstem\u001b[0m \u001b[1;33m=\u001b[0m \u001b[0mself\u001b[0m\u001b[1;33m.\u001b[0m\u001b[0m_step1a\u001b[0m\u001b[1;33m(\u001b[0m\u001b[0mstem\u001b[0m\u001b[1;33m)\u001b[0m\u001b[1;33m\u001b[0m\u001b[1;33m\u001b[0m\u001b[0m\n\u001b[0;32m    664\u001b[0m         \u001b[0mstem\u001b[0m \u001b[1;33m=\u001b[0m \u001b[0mself\u001b[0m\u001b[1;33m.\u001b[0m\u001b[0m_step1b\u001b[0m\u001b[1;33m(\u001b[0m\u001b[0mstem\u001b[0m\u001b[1;33m)\u001b[0m\u001b[1;33m\u001b[0m\u001b[1;33m\u001b[0m\u001b[0m\n\u001b[1;32m--> 665\u001b[1;33m         \u001b[0mstem\u001b[0m \u001b[1;33m=\u001b[0m \u001b[0mself\u001b[0m\u001b[1;33m.\u001b[0m\u001b[0m_step1c\u001b[0m\u001b[1;33m(\u001b[0m\u001b[0mstem\u001b[0m\u001b[1;33m)\u001b[0m\u001b[1;33m\u001b[0m\u001b[1;33m\u001b[0m\u001b[0m\n\u001b[0m\u001b[0;32m    666\u001b[0m         \u001b[0mstem\u001b[0m \u001b[1;33m=\u001b[0m \u001b[0mself\u001b[0m\u001b[1;33m.\u001b[0m\u001b[0m_step2\u001b[0m\u001b[1;33m(\u001b[0m\u001b[0mstem\u001b[0m\u001b[1;33m)\u001b[0m\u001b[1;33m\u001b[0m\u001b[1;33m\u001b[0m\u001b[0m\n\u001b[0;32m    667\u001b[0m         \u001b[0mstem\u001b[0m \u001b[1;33m=\u001b[0m \u001b[0mself\u001b[0m\u001b[1;33m.\u001b[0m\u001b[0m_step3\u001b[0m\u001b[1;33m(\u001b[0m\u001b[0mstem\u001b[0m\u001b[1;33m)\u001b[0m\u001b[1;33m\u001b[0m\u001b[1;33m\u001b[0m\u001b[0m\n",
      "\u001b[1;32m~\\anaconda3\\lib\\site-packages\\nltk\\stem\\porter.py\u001b[0m in \u001b[0;36m_step1c\u001b[1;34m(self, word)\u001b[0m\n\u001b[0;32m    393\u001b[0m         \"\"\"\n\u001b[0;32m    394\u001b[0m \u001b[1;33m\u001b[0m\u001b[0m\n\u001b[1;32m--> 395\u001b[1;33m         \u001b[1;32mdef\u001b[0m \u001b[0mnltk_condition\u001b[0m\u001b[1;33m(\u001b[0m\u001b[0mstem\u001b[0m\u001b[1;33m)\u001b[0m\u001b[1;33m:\u001b[0m\u001b[1;33m\u001b[0m\u001b[1;33m\u001b[0m\u001b[0m\n\u001b[0m\u001b[0;32m    396\u001b[0m             \"\"\"\n\u001b[0;32m    397\u001b[0m             \u001b[0mThis\u001b[0m \u001b[0mhas\u001b[0m \u001b[0mbeen\u001b[0m \u001b[0mmodified\u001b[0m \u001b[1;32mfrom\u001b[0m \u001b[0mthe\u001b[0m \u001b[0moriginal\u001b[0m \u001b[0mPorter\u001b[0m \u001b[0malgorithm\u001b[0m \u001b[0mso\u001b[0m\u001b[1;33m\u001b[0m\u001b[1;33m\u001b[0m\u001b[0m\n",
      "\u001b[1;31mKeyboardInterrupt\u001b[0m: "
     ]
    }
   ],
   "source": [
    "i = 0\n",
    "\n",
    "def preprocess_text(text):\n",
    "    chars=\"\\n,.\"\n",
    "    for char in chars:\n",
    "        text = text.replace(char,\" \")\n",
    "    text = re.sub(r'[^\\w\\s]', '', str(text).lower().strip())\n",
    "    lst_text = text.split()\n",
    "    lst_stopwords = stopwords.words(\"french\")\n",
    "    lst_text = [word for word in lst_text if word not in lst_stopwords]\n",
    "    ps = PorterStemmer()\n",
    "    lst_text = [ps.stem(word) for word in lst_text]\n",
    "    lem = WordNetLemmatizer()\n",
    "    lst_text = [lem.lemmatize(word) for word in lst_text]\n",
    "    ############\n",
    "    global i\n",
    "    i+=1\n",
    "    print(f'{i} / {df.shape[0]}')\n",
    "    ###############\n",
    "    text = \" \".join(lst_text)\n",
    "    return text\n",
    "\n",
    "df[\"history_text\"] = df[\"history_text\"].apply(preprocess_text)  "
   ]
  },
  {
   "cell_type": "code",
   "execution_count": 453,
   "metadata": {
    "ExecuteTime": {
     "end_time": "2021-07-19T12:17:29.005647Z",
     "start_time": "2021-07-19T12:17:27.726031Z"
    },
    "hidden": true
   },
   "outputs": [
    {
     "data": {
      "text/plain": [
       "TfidfVectorizer()"
      ]
     },
     "execution_count": 453,
     "metadata": {},
     "output_type": "execute_result"
    }
   ],
   "source": [
    "from sklearn.feature_extraction.text import TfidfVectorizer\n",
    "vectorizer = TfidfVectorizer()\n",
    "vectorizer.fit(df['history_text'])"
   ]
  },
  {
   "cell_type": "code",
   "execution_count": 454,
   "metadata": {
    "ExecuteTime": {
     "end_time": "2021-07-19T12:17:41.066533Z",
     "start_time": "2021-07-19T12:17:39.950480Z"
    },
    "hidden": true
   },
   "outputs": [],
   "source": [
    "train_x = vectorizer.transform(train_x)\n",
    "test_x = vectorizer.transform(test_x)"
   ]
  },
  {
   "cell_type": "code",
   "execution_count": 455,
   "metadata": {
    "ExecuteTime": {
     "end_time": "2021-07-19T12:18:09.490966Z",
     "start_time": "2021-07-19T12:18:00.702704Z"
    },
    "hidden": true
   },
   "outputs": [
    {
     "name": "stdout",
     "output_type": "stream",
     "text": [
      "Accuracy: 76.52\n"
     ]
    }
   ],
   "source": [
    "ETC = ExtraTreesClassifier(n_estimators=200)\n",
    "ETC.fit(train_x, train_y)\n",
    "\n",
    "predicted = ETC.predict(test_x)\n",
    "\n",
    "acc = accuracy_score(test_y, predicted)\n",
    "print(\"Accuracy: {:.2f}\".format(acc*100))"
   ]
  },
  {
   "cell_type": "code",
   "execution_count": 213,
   "metadata": {
    "ExecuteTime": {
     "end_time": "2021-07-16T21:22:20.818696Z",
     "start_time": "2021-07-16T21:22:11.915476Z"
    },
    "hidden": true
   },
   "outputs": [
    {
     "name": "stdout",
     "output_type": "stream",
     "text": [
      "Accuracy: 76.92\n",
      "F1-Score: 13.082\n"
     ]
    }
   ],
   "source": [
    "SVM = SVC(random_state=0)\n",
    "eval_text(SVM)"
   ]
  },
  {
   "cell_type": "code",
   "execution_count": 215,
   "metadata": {
    "ExecuteTime": {
     "end_time": "2021-07-16T21:22:48.309749Z",
     "start_time": "2021-07-16T21:22:39.369662Z"
    },
    "hidden": true
   },
   "outputs": [
    {
     "name": "stdout",
     "output_type": "stream",
     "text": [
      "Accuracy: 76.92\n",
      "F1-Score: 13.08\n"
     ]
    }
   ],
   "source": [
    "LSVM = LinearSVC(random_state=0)\n",
    "eval_text(SVM)"
   ]
  },
  {
   "cell_type": "code",
   "execution_count": 216,
   "metadata": {
    "ExecuteTime": {
     "end_time": "2021-07-16T21:22:50.548762Z",
     "start_time": "2021-07-16T21:22:48.366597Z"
    },
    "hidden": true
   },
   "outputs": [
    {
     "name": "stdout",
     "output_type": "stream",
     "text": [
      "Accuracy: 69.64\n",
      "F1-Score: 7.02\n"
     ]
    }
   ],
   "source": [
    "RFC = RandomForestClassifier(max_depth=100, random_state=0)\n",
    "eval_text(RFC)"
   ]
  },
  {
   "cell_type": "code",
   "execution_count": 225,
   "metadata": {
    "ExecuteTime": {
     "end_time": "2021-07-16T21:37:25.482683Z",
     "start_time": "2021-07-16T21:24:10.891153Z"
    },
    "hidden": true
   },
   "outputs": [
    {
     "name": "stdout",
     "output_type": "stream",
     "text": [
      "Accuracy: 75.71\n",
      "F1-Score: 39.45\n"
     ]
    }
   ],
   "source": [
    "GBC = GradientBoostingClassifier(learning_rate=0.2,\n",
    "    max_depth=5,\n",
    "    n_estimators=200)\n",
    "eval_text(GBC)"
   ]
  },
  {
   "cell_type": "code",
   "execution_count": 217,
   "metadata": {
    "ExecuteTime": {
     "end_time": "2021-07-16T21:22:59.838435Z",
     "start_time": "2021-07-16T21:22:54.667270Z"
    },
    "hidden": true
   },
   "outputs": [
    {
     "name": "stdout",
     "output_type": "stream",
     "text": [
      "Accuracy: 56.68\n",
      "F1-Score: 14.72\n"
     ]
    }
   ],
   "source": [
    "ABC = AdaBoostClassifier(n_estimators=100)\n",
    "eval_text(ABC)"
   ]
  },
  {
   "cell_type": "code",
   "execution_count": 224,
   "metadata": {
    "ExecuteTime": {
     "end_time": "2021-07-16T21:23:16.209426Z",
     "start_time": "2021-07-16T21:23:16.152551Z"
    },
    "hidden": true
   },
   "outputs": [
    {
     "name": "stdout",
     "output_type": "stream",
     "text": [
      "Accuracy: 74.90\n",
      "F1-Score: 30.97\n"
     ]
    }
   ],
   "source": [
    "KNN = KNeighborsClassifier(n_neighbors=3)\n",
    "eval_text(KNN)"
   ]
  },
  {
   "cell_type": "code",
   "execution_count": 182,
   "metadata": {
    "ExecuteTime": {
     "end_time": "2021-07-16T21:14:28.866758Z",
     "start_time": "2021-07-16T21:13:11.851719Z"
    },
    "hidden": true,
    "scrolled": true
   },
   "outputs": [
    {
     "name": "stderr",
     "output_type": "stream",
     "text": [
      "C:\\Users\\Idriss\\anaconda3\\lib\\site-packages\\sklearn\\model_selection\\_split.py:670: UserWarning: The least populated class in y has only 1 members, which is less than n_splits=5.\n",
      "  warnings.warn((\"The least populated class in y has only %d\"\n",
      "C:\\Users\\Idriss\\anaconda3\\lib\\site-packages\\sklearn\\model_selection\\_validation.py:901: RuntimeWarning: Number of classes in training fold (35) does not match total number of classes (37). Results may not be appropriate for your use case. To fix this, use a cross-validation technique resulting in properly stratified folds\n",
      "  warnings.warn('Number of classes in training fold ({}) does '\n",
      "C:\\Users\\Idriss\\anaconda3\\lib\\site-packages\\sklearn\\model_selection\\_split.py:670: UserWarning: The least populated class in y has only 1 members, which is less than n_splits=5.\n",
      "  warnings.warn((\"The least populated class in y has only %d\"\n",
      "C:\\Users\\Idriss\\anaconda3\\lib\\site-packages\\sklearn\\model_selection\\_validation.py:901: RuntimeWarning: Number of classes in training fold (35) does not match total number of classes (37). Results may not be appropriate for your use case. To fix this, use a cross-validation technique resulting in properly stratified folds\n",
      "  warnings.warn('Number of classes in training fold ({}) does '\n",
      "C:\\Users\\Idriss\\anaconda3\\lib\\site-packages\\sklearn\\model_selection\\_split.py:670: UserWarning: The least populated class in y has only 1 members, which is less than n_splits=5.\n",
      "  warnings.warn((\"The least populated class in y has only %d\"\n",
      "C:\\Users\\Idriss\\anaconda3\\lib\\site-packages\\sklearn\\model_selection\\_validation.py:901: RuntimeWarning: Number of classes in training fold (35) does not match total number of classes (37). Results may not be appropriate for your use case. To fix this, use a cross-validation technique resulting in properly stratified folds\n",
      "  warnings.warn('Number of classes in training fold ({}) does '\n",
      "C:\\Users\\Idriss\\anaconda3\\lib\\site-packages\\sklearn\\model_selection\\_validation.py:901: RuntimeWarning: Number of classes in training fold (35) does not match total number of classes (37). Results may not be appropriate for your use case. To fix this, use a cross-validation technique resulting in properly stratified folds\n",
      "  warnings.warn('Number of classes in training fold ({}) does '\n",
      "C:\\Users\\Idriss\\anaconda3\\lib\\site-packages\\sklearn\\model_selection\\_validation.py:901: RuntimeWarning: Number of classes in training fold (35) does not match total number of classes (37). Results may not be appropriate for your use case. To fix this, use a cross-validation technique resulting in properly stratified folds\n",
      "  warnings.warn('Number of classes in training fold ({}) does '\n",
      "C:\\Users\\Idriss\\anaconda3\\lib\\site-packages\\sklearn\\model_selection\\_validation.py:901: RuntimeWarning: Number of classes in training fold (35) does not match total number of classes (37). Results may not be appropriate for your use case. To fix this, use a cross-validation technique resulting in properly stratified folds\n",
      "  warnings.warn('Number of classes in training fold ({}) does '\n",
      "C:\\Users\\Idriss\\anaconda3\\lib\\site-packages\\sklearn\\model_selection\\_validation.py:901: RuntimeWarning: Number of classes in training fold (35) does not match total number of classes (37). Results may not be appropriate for your use case. To fix this, use a cross-validation technique resulting in properly stratified folds\n",
      "  warnings.warn('Number of classes in training fold ({}) does '\n",
      "C:\\Users\\Idriss\\anaconda3\\lib\\site-packages\\sklearn\\model_selection\\_split.py:670: UserWarning: The least populated class in y has only 1 members, which is less than n_splits=5.\n",
      "  warnings.warn((\"The least populated class in y has only %d\"\n",
      "C:\\Users\\Idriss\\anaconda3\\lib\\site-packages\\sklearn\\model_selection\\_validation.py:901: RuntimeWarning: Number of classes in training fold (35) does not match total number of classes (37). Results may not be appropriate for your use case. To fix this, use a cross-validation technique resulting in properly stratified folds\n",
      "  warnings.warn('Number of classes in training fold ({}) does '\n",
      "C:\\Users\\Idriss\\anaconda3\\lib\\site-packages\\sklearn\\model_selection\\_validation.py:901: RuntimeWarning: Number of classes in training fold (35) does not match total number of classes (37). Results may not be appropriate for your use case. To fix this, use a cross-validation technique resulting in properly stratified folds\n",
      "  warnings.warn('Number of classes in training fold ({}) does '\n",
      "C:\\Users\\Idriss\\anaconda3\\lib\\site-packages\\sklearn\\model_selection\\_validation.py:901: RuntimeWarning: Number of classes in training fold (35) does not match total number of classes (37). Results may not be appropriate for your use case. To fix this, use a cross-validation technique resulting in properly stratified folds\n",
      "  warnings.warn('Number of classes in training fold ({}) does '\n",
      "C:\\Users\\Idriss\\anaconda3\\lib\\site-packages\\sklearn\\model_selection\\_validation.py:901: RuntimeWarning: Number of classes in training fold (35) does not match total number of classes (37). Results may not be appropriate for your use case. To fix this, use a cross-validation technique resulting in properly stratified folds\n",
      "  warnings.warn('Number of classes in training fold ({}) does '\n",
      "C:\\Users\\Idriss\\anaconda3\\lib\\site-packages\\sklearn\\model_selection\\_validation.py:901: RuntimeWarning: Number of classes in training fold (35) does not match total number of classes (37). Results may not be appropriate for your use case. To fix this, use a cross-validation technique resulting in properly stratified folds\n",
      "  warnings.warn('Number of classes in training fold ({}) does '\n",
      "C:\\Users\\Idriss\\anaconda3\\lib\\site-packages\\sklearn\\model_selection\\_split.py:670: UserWarning: The least populated class in y has only 1 members, which is less than n_splits=5.\n",
      "  warnings.warn((\"The least populated class in y has only %d\"\n",
      "C:\\Users\\Idriss\\anaconda3\\lib\\site-packages\\sklearn\\model_selection\\_validation.py:901: RuntimeWarning: Number of classes in training fold (35) does not match total number of classes (37). Results may not be appropriate for your use case. To fix this, use a cross-validation technique resulting in properly stratified folds\n",
      "  warnings.warn('Number of classes in training fold ({}) does '\n",
      "C:\\Users\\Idriss\\anaconda3\\lib\\site-packages\\sklearn\\model_selection\\_validation.py:901: RuntimeWarning: Number of classes in training fold (35) does not match total number of classes (37). Results may not be appropriate for your use case. To fix this, use a cross-validation technique resulting in properly stratified folds\n",
      "  warnings.warn('Number of classes in training fold ({}) does '\n",
      "C:\\Users\\Idriss\\anaconda3\\lib\\site-packages\\sklearn\\model_selection\\_validation.py:901: RuntimeWarning: Number of classes in training fold (35) does not match total number of classes (37). Results may not be appropriate for your use case. To fix this, use a cross-validation technique resulting in properly stratified folds\n",
      "  warnings.warn('Number of classes in training fold ({}) does '\n",
      "C:\\Users\\Idriss\\anaconda3\\lib\\site-packages\\sklearn\\model_selection\\_validation.py:901: RuntimeWarning: Number of classes in training fold (35) does not match total number of classes (37). Results may not be appropriate for your use case. To fix this, use a cross-validation technique resulting in properly stratified folds\n",
      "  warnings.warn('Number of classes in training fold ({}) does '\n",
      "C:\\Users\\Idriss\\anaconda3\\lib\\site-packages\\sklearn\\model_selection\\_validation.py:901: RuntimeWarning: Number of classes in training fold (35) does not match total number of classes (37). Results may not be appropriate for your use case. To fix this, use a cross-validation technique resulting in properly stratified folds\n",
      "  warnings.warn('Number of classes in training fold ({}) does '\n",
      "C:\\Users\\Idriss\\anaconda3\\lib\\site-packages\\numpy\\core\\fromnumeric.py:87: RuntimeWarning: overflow encountered in reduce\n",
      "  return ufunc.reduce(obj, axis, dtype, out, **passkwargs)\n",
      "C:\\Users\\Idriss\\anaconda3\\lib\\site-packages\\numpy\\core\\fromnumeric.py:87: RuntimeWarning: overflow encountered in reduce\n",
      "  return ufunc.reduce(obj, axis, dtype, out, **passkwargs)\n"
     ]
    },
    {
     "name": "stdout",
     "output_type": "stream",
     "text": [
      "Accuracy: 33.60\n",
      "F1-Score: 0.020\n"
     ]
    }
   ],
   "source": [
    "model = StackingClassifier([('SVM', SVM),\n",
    "                            ('LSVM', LSVM),\n",
    "                            ('RFC', RFC),\n",
    "                            ('KNN', KNN),\n",
    "                            ('ABC', ABC)],\n",
    "                             final_estimator=KNeighborsClassifier())\n",
    "\n",
    "eval_text(model)"
   ]
  },
  {
   "cell_type": "code",
   "execution_count": 183,
   "metadata": {
    "ExecuteTime": {
     "end_time": "2021-07-16T21:15:06.703556Z",
     "start_time": "2021-07-16T21:14:28.941557Z"
    },
    "hidden": true
   },
   "outputs": [
    {
     "name": "stdout",
     "output_type": "stream",
     "text": [
      "Accuracy: 55.47\n",
      "F1-Score: 0.039\n"
     ]
    }
   ],
   "source": [
    "model = BaggingClassifier(base_estimator=ABC,\n",
    "                         n_estimators=10)\n",
    "\n",
    "eval_text(model)"
   ]
  },
  {
   "cell_type": "code",
   "execution_count": 456,
   "metadata": {
    "ExecuteTime": {
     "end_time": "2021-07-19T12:23:03.985003Z",
     "start_time": "2021-07-19T12:22:58.976682Z"
    },
    "hidden": true
   },
   "outputs": [
    {
     "name": "stderr",
     "output_type": "stream",
     "text": [
      "C:\\Users\\Idriss\\anaconda3\\lib\\site-packages\\sklearn\\model_selection\\_split.py:670: UserWarning: The least populated class in y has only 1 members, which is less than n_splits=4.\n",
      "  warnings.warn((\"The least populated class in y has only %d\"\n"
     ]
    },
    {
     "name": "stdout",
     "output_type": "stream",
     "text": [
      "Accuracy: 85.02\n",
      "F1-Score: 34.22\n"
     ]
    }
   ],
   "source": [
    "params = {\n",
    "    'n_neighbors':range(1,20),\n",
    "}\n",
    "\n",
    "grid = GridSearchCV(KNN, param_grid=params, cv=4)\n",
    "\n",
    "eval_text(grid)"
   ]
  },
  {
   "cell_type": "code",
   "execution_count": 185,
   "metadata": {
    "ExecuteTime": {
     "end_time": "2021-07-16T21:15:09.763370Z",
     "start_time": "2021-07-16T21:15:09.758385Z"
    },
    "hidden": true
   },
   "outputs": [
    {
     "data": {
      "text/plain": [
       "{'n_neighbors': 1}"
      ]
     },
     "execution_count": 185,
     "metadata": {},
     "output_type": "execute_result"
    }
   ],
   "source": [
    "grid.best_params_"
   ]
  },
  {
   "cell_type": "markdown",
   "metadata": {
    "heading_collapsed": true
   },
   "source": [
    "##  with both"
   ]
  },
  {
   "cell_type": "code",
   "execution_count": 265,
   "metadata": {
    "ExecuteTime": {
     "end_time": "2021-07-14T22:42:39.726770Z",
     "start_time": "2021-07-14T22:42:39.714804Z"
    },
    "hidden": true,
    "scrolled": true
   },
   "outputs": [
    {
     "name": "stdout",
     "output_type": "stream",
     "text": [
      "Accuracy : 85.83\n"
     ]
    }
   ],
   "source": [
    "y_pred = model.predict(test_x)\n",
    "\n",
    "acc = accuracy_score(test_y, y_pred)\n",
    "f1 = \n",
    "print(\"Accuracy : {:.2f}\".format(acc*100))"
   ]
  },
  {
   "cell_type": "markdown",
   "metadata": {
    "hidden": true
   },
   "source": [
    "on va essayer de concatener les features extrait du history text avec les caractéristique de chaque héro pour voir si ça donne de meilleur résultats"
   ]
  },
  {
   "cell_type": "code",
   "execution_count": 129,
   "metadata": {
    "ExecuteTime": {
     "end_time": "2021-06-30T19:30:14.921651Z",
     "start_time": "2021-06-30T19:30:14.707809Z"
    },
    "hidden": true,
    "scrolled": true
   },
   "outputs": [],
   "source": [
    "tr = np.concatenate((train1.toarray(), train.drop(['history_text','creator'],axis=1).to_numpy()), axis=1)\n",
    "ts = np.concatenate((test1.toarray(), test.drop(['history_text','creator'],axis=1).to_numpy()), axis=1)"
   ]
  },
  {
   "cell_type": "code",
   "execution_count": 130,
   "metadata": {
    "ExecuteTime": {
     "end_time": "2021-06-30T19:30:21.696427Z",
     "start_time": "2021-06-30T19:30:20.225618Z"
    },
    "hidden": true,
    "scrolled": false
   },
   "outputs": [
    {
     "name": "stderr",
     "output_type": "stream",
     "text": [
      "C:\\Users\\dada\\AppData\\Roaming\\Python\\Python37\\site-packages\\sklearn\\svm\\_base.py:986: ConvergenceWarning: Liblinear failed to converge, increase the number of iterations.\n",
      "  \"the number of iterations.\", ConvergenceWarning)\n"
     ]
    },
    {
     "data": {
      "text/plain": [
       "LinearSVC()"
      ]
     },
     "execution_count": 130,
     "metadata": {},
     "output_type": "execute_result"
    }
   ],
   "source": [
    "model = LinearSVC()\n",
    "model.fit(tr, train[\"creator\"])"
   ]
  },
  {
   "cell_type": "code",
   "execution_count": 131,
   "metadata": {
    "ExecuteTime": {
     "end_time": "2021-06-30T19:30:33.134718Z",
     "start_time": "2021-06-30T19:30:33.091942Z"
    },
    "hidden": true
   },
   "outputs": [
    {
     "name": "stdout",
     "output_type": "stream",
     "text": [
      "Accuracy : 67.00\n"
     ]
    }
   ],
   "source": [
    "y_pred = model.predict(ts)\n",
    "\n",
    "acc = accuracy_score(test[\"creator\"], y_pred)\n",
    "\n",
    "print(\"Accuracy : {:.2f}\".format(acc*100))"
   ]
  },
  {
   "cell_type": "markdown",
   "metadata": {},
   "source": [
    "# W2v\n"
   ]
  },
  {
   "cell_type": "code",
   "execution_count": 506,
   "metadata": {
    "ExecuteTime": {
     "end_time": "2021-07-19T13:15:28.177733Z",
     "start_time": "2021-07-19T13:15:28.171749Z"
    }
   },
   "outputs": [],
   "source": [
    "import nltk\n",
    "from gensim.models import Word2Vec\n",
    "from IPython.display import clear_output"
   ]
  },
  {
   "cell_type": "code",
   "execution_count": 507,
   "metadata": {
    "ExecuteTime": {
     "end_time": "2021-07-19T13:16:07.260506Z",
     "start_time": "2021-07-19T13:15:32.585941Z"
    }
   },
   "outputs": [
    {
     "name": "stdout",
     "output_type": "stream",
     "text": [
      "1233 / 1233\n"
     ]
    }
   ],
   "source": [
    "i = 0\n",
    "\n",
    "def preprocess_text(text):\n",
    "    chars=\"\\n,.\"\n",
    "    for char in chars:\n",
    "        text = text.replace(char,\" \")\n",
    "    text = re.sub(r'[^\\w\\s]', '', str(text).lower().strip())\n",
    "    lst_text = text.split()\n",
    "    lst_stopwords = stopwords.words(\"french\")\n",
    "    lst_text = [word for word in lst_text if word not in lst_stopwords]\n",
    "    ps = PorterStemmer()\n",
    "    lst_text = [ps.stem(word) for word in lst_text]\n",
    "    lem = WordNetLemmatizer()\n",
    "    lst_text = [lem.lemmatize(word) for word in lst_text]\n",
    "    ############\n",
    "    global i\n",
    "    i+=1\n",
    "    clear_output(wait=True)\n",
    "    print(f'{i} / {df.shape[0]}')\n",
    "    ###############\n",
    "    text = \" \".join(lst_text)\n",
    "    return text\n",
    "\n",
    "df[\"clean_text\"] = df[\"history_text\"].apply(preprocess_text)  "
   ]
  },
  {
   "cell_type": "code",
   "execution_count": 508,
   "metadata": {
    "ExecuteTime": {
     "end_time": "2021-07-19T13:16:11.530086Z",
     "start_time": "2021-07-19T13:16:11.517120Z"
    }
   },
   "outputs": [],
   "source": [
    "train_x, test_x,train_y,test_y = train_test_split(df['clean_text'],df['creator'],test_size = 0.2,random_state = 0)"
   ]
  },
  {
   "cell_type": "code",
   "execution_count": 509,
   "metadata": {
    "ExecuteTime": {
     "end_time": "2021-07-19T13:16:28.685036Z",
     "start_time": "2021-07-19T13:16:11.973899Z"
    }
   },
   "outputs": [],
   "source": [
    "doc = df['clean_text'].tolist()\n",
    "\n",
    "doc = \" \".join(doc)\n",
    "\n",
    "doc = doc.lower()\n",
    "doc = re.sub('[^a-zA-Z]', ' ', doc )\n",
    "doc = re.sub(r'\\s+', ' ', doc)\n",
    "\n",
    "all_sentences = nltk.sent_tokenize(doc)\n",
    "\n",
    "all_words = [nltk.word_tokenize(sent) for sent in all_sentences]\n",
    "\n",
    "all_words = all_words[0]\n",
    "\n",
    "model = Word2Vec(all_words, window=5, min_count=2, workers=2)\n",
    "\n",
    "w2v = {w: vec for w, vec in zip(model.wv.index_to_key, model.wv.vectors)}"
   ]
  },
  {
   "cell_type": "code",
   "execution_count": 510,
   "metadata": {
    "ExecuteTime": {
     "end_time": "2021-07-19T13:19:53.443287Z",
     "start_time": "2021-07-19T13:19:53.434311Z"
    }
   },
   "outputs": [],
   "source": [
    "class MeanEmbeddingVectorizer(object):\n",
    "    def __init__(self, word2vec):\n",
    "        self.word2vec = word2vec\n",
    "        if len(word2vec)>0:\n",
    "            self.dim= model.vector_size\n",
    "        else:\n",
    "            self.dim=0\n",
    "            \n",
    "    def fit(self, X, y):\n",
    "        return self \n",
    "\n",
    "    def transform(self, X):\n",
    "        return np.array([\n",
    "            np.mean([self.word2vec[w] for w in words if w in self.word2vec] \n",
    "                    or [np.zeros(self.dim)], axis=0)\n",
    "            for words in X\n",
    "        ])"
   ]
  },
  {
   "cell_type": "code",
   "execution_count": 512,
   "metadata": {
    "ExecuteTime": {
     "end_time": "2021-07-19T13:20:12.887054Z",
     "start_time": "2021-07-19T13:20:07.402697Z"
    }
   },
   "outputs": [
    {
     "name": "stdout",
     "output_type": "stream",
     "text": [
      "Accuracy: 56.68\n"
     ]
    }
   ],
   "source": [
    "from sklearn.pipeline import Pipeline\n",
    "from sklearn.ensemble import ExtraTreesClassifier\n",
    "\n",
    "\n",
    "etree_w2v = make_pipeline( MeanEmbeddingVectorizer(w2v), \n",
    "                         ExtraTreesClassifier(n_estimators=200))\n",
    "\n",
    "etree_w2v.fit(train_x, train_y)\n",
    "predicted = etree_w2v.predict(test_x)\n",
    "\n",
    "acc = accuracy_score(test_y, predicted)\n",
    "print(\"Accuracy: {:.2f}\".format(acc*100))"
   ]
  },
  {
   "cell_type": "code",
   "execution_count": 514,
   "metadata": {
    "ExecuteTime": {
     "end_time": "2021-07-19T13:21:17.596107Z",
     "start_time": "2021-07-19T13:21:13.388361Z"
    }
   },
   "outputs": [
    {
     "name": "stdout",
     "output_type": "stream",
     "text": [
      "Accuracy: 20.65\n"
     ]
    }
   ],
   "source": [
    "from sklearn.naive_bayes import GaussianNB\n",
    "clf = make_pipeline( MeanEmbeddingVectorizer(w2v), \n",
    "                        GaussianNB())\n",
    "clf.fit(train_x, train_y)\n",
    "\n",
    "predicted = clf.predict(test_x)\n",
    "\n",
    "acc = accuracy_score(test_y, predicted)\n",
    "print(\"Accuracy: {:.2f}\".format(acc*100))"
   ]
  },
  {
   "cell_type": "code",
   "execution_count": 517,
   "metadata": {
    "ExecuteTime": {
     "end_time": "2021-07-19T13:22:01.594503Z",
     "start_time": "2021-07-19T13:22:01.417975Z"
    }
   },
   "outputs": [
    {
     "name": "stdout",
     "output_type": "stream",
     "text": [
      "Accuracy: 48.99\n"
     ]
    }
   ],
   "source": [
    "ETC =  make_pipeline( MeanEmbeddingVectorizer(w2v),RandomForestClassifier(n_estimators=200))\n",
    "ETC.fit(x_train, train_y)\n",
    "\n",
    "predicted = ETC.predict(x_test)\n",
    "\n",
    "acc = accuracy_score(test_y, predicted)\n",
    "print(\"Accuracy: {:.2f}\".format(acc*100))"
   ]
  },
  {
   "cell_type": "code",
   "execution_count": 525,
   "metadata": {
    "ExecuteTime": {
     "end_time": "2021-07-19T13:29:31.694845Z",
     "start_time": "2021-07-19T13:29:31.688860Z"
    }
   },
   "outputs": [],
   "source": [
    "params = {\n",
    "    'kneighborsclassifier__n_neighbors':range(1,20),\n",
    "}\n",
    "KNN = make_pipeline( MeanEmbeddingVectorizer(w2v),KNeighborsClassifier(n_neighbors=3))\n",
    "grid = GridSearchCV(KNN, param_grid=params, cv=4)"
   ]
  },
  {
   "cell_type": "code",
   "execution_count": 526,
   "metadata": {
    "ExecuteTime": {
     "end_time": "2021-07-19T13:33:50.054964Z",
     "start_time": "2021-07-19T13:29:32.811035Z"
    },
    "scrolled": true
   },
   "outputs": [
    {
     "name": "stderr",
     "output_type": "stream",
     "text": [
      "C:\\Users\\Idriss\\anaconda3\\lib\\site-packages\\sklearn\\model_selection\\_split.py:670: UserWarning: The least populated class in y has only 1 members, which is less than n_splits=4.\n",
      "  warnings.warn((\"The least populated class in y has only %d\"\n"
     ]
    },
    {
     "name": "stdout",
     "output_type": "stream",
     "text": [
      "Accuracy: 51.42\n"
     ]
    }
   ],
   "source": [
    "grid.fit(train_x, train_y)\n",
    "\n",
    "predicted = grid.predict(test_x)\n",
    "\n",
    "acc = accuracy_score(test_y, predicted)\n",
    "print(\"Accuracy: {:.2f}\".format(acc*100))"
   ]
  },
  {
   "cell_type": "code",
   "execution_count": 552,
   "metadata": {
    "ExecuteTime": {
     "end_time": "2021-07-20T12:41:54.563594Z",
     "start_time": "2021-07-20T12:41:54.434973Z"
    }
   },
   "outputs": [],
   "source": [
    "x = pd.read_csv(\"data_for_test.csv\")"
   ]
  },
  {
   "cell_type": "code",
   "execution_count": 553,
   "metadata": {
    "ExecuteTime": {
     "end_time": "2021-07-20T12:41:55.916919Z",
     "start_time": "2021-07-20T12:41:55.905960Z"
    }
   },
   "outputs": [],
   "source": [
    "x.dropna(subset=['creator'],inplace=True)\n",
    "x.dropna(subset=['history_text'],inplace=True)"
   ]
  },
  {
   "cell_type": "code",
   "execution_count": 554,
   "metadata": {
    "ExecuteTime": {
     "end_time": "2021-07-20T12:41:57.079553Z",
     "start_time": "2021-07-20T12:41:57.073568Z"
    }
   },
   "outputs": [],
   "source": [
    "x = x[['history_text','creator']]"
   ]
  },
  {
   "cell_type": "code",
   "execution_count": 555,
   "metadata": {
    "ExecuteTime": {
     "end_time": "2021-07-20T12:41:58.537491Z",
     "start_time": "2021-07-20T12:41:58.529512Z"
    }
   },
   "outputs": [],
   "source": [
    "train, test = train_test_split(x,test_size = 0.2,random_state = 0)"
   ]
  },
  {
   "cell_type": "code",
   "execution_count": 557,
   "metadata": {
    "ExecuteTime": {
     "end_time": "2021-07-20T12:43:26.437699Z",
     "start_time": "2021-07-20T12:43:26.226238Z"
    }
   },
   "outputs": [],
   "source": [
    "train.to_csv(\"train.csv\",index=False)\n",
    "test.to_csv(\"test.csv\",index=False)"
   ]
  }
 ],
 "metadata": {
  "kernelspec": {
   "display_name": "Python 3",
   "language": "python",
   "name": "python3"
  },
  "language_info": {
   "codemirror_mode": {
    "name": "ipython",
    "version": 3
   },
   "file_extension": ".py",
   "mimetype": "text/x-python",
   "name": "python",
   "nbconvert_exporter": "python",
   "pygments_lexer": "ipython3",
   "version": "3.8.5"
  },
  "toc": {
   "base_numbering": 1,
   "nav_menu": {},
   "number_sections": true,
   "sideBar": true,
   "skip_h1_title": false,
   "title_cell": "Table of Contents",
   "title_sidebar": "Contents",
   "toc_cell": false,
   "toc_position": {},
   "toc_section_display": true,
   "toc_window_display": false
  },
  "varInspector": {
   "cols": {
    "lenName": 16,
    "lenType": 16,
    "lenVar": 40
   },
   "kernels_config": {
    "python": {
     "delete_cmd_postfix": "",
     "delete_cmd_prefix": "del ",
     "library": "var_list.py",
     "varRefreshCmd": "print(var_dic_list())"
    },
    "r": {
     "delete_cmd_postfix": ") ",
     "delete_cmd_prefix": "rm(",
     "library": "var_list.r",
     "varRefreshCmd": "cat(var_dic_list()) "
    }
   },
   "types_to_exclude": [
    "module",
    "function",
    "builtin_function_or_method",
    "instance",
    "_Feature"
   ],
   "window_display": false
  }
 },
 "nbformat": 4,
 "nbformat_minor": 2
}
