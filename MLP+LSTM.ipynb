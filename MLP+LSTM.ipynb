{
  "nbformat": 4,
  "nbformat_minor": 0,
  "metadata": {
    "colab": {
      "name": "MLP+LSTM.ipynb",
      "provenance": [],
      "collapsed_sections": []
    },
    "kernelspec": {
      "name": "python3",
      "display_name": "Python 3"
    },
    "language_info": {
      "name": "python"
    },
    "accelerator": "GPU"
  },
  "cells": [
    {
      "cell_type": "code",
      "metadata": {
        "id": "6bz4n1tm4NVY"
      },
      "source": [
        "import tensorflow as tf\n",
        "import pandas as pd\n",
        "from sklearn.preprocessing import LabelEncoder \n",
        "from sklearn.model_selection import train_test_split\n",
        "from sklearn.preprocessing import StandardScaler\n",
        "from tensorflow.keras.optimizers import Adam\n",
        "from keras.preprocessing.sequence import pad_sequences\n",
        "from keras.preprocessing.text import Tokenizer\n",
        "from keras.layers import Dense, concatenate\n",
        "from keras.models import Model\n",
        "from keras.optimizers import Adam\n",
        "import matplotlib.pyplot as plt\n",
        "import numpy as np"
      ],
      "execution_count": null,
      "outputs": []
    },
    {
      "cell_type": "code",
      "metadata": {
        "id": "uA4PKKZO5Jqq"
      },
      "source": [
        "df = pd.read_csv('/content/data_for_test.csv',sep=',')"
      ],
      "execution_count": null,
      "outputs": []
    },
    {
      "cell_type": "code",
      "metadata": {
        "id": "HZM7HQjw5MT6"
      },
      "source": [
        "df.drop(columns=[\"name\",\"real_name\",\"full_name\",\"height\",\"weight\"],inplace=True)\n",
        "\n",
        "df.dropna(subset=['creator'],inplace=True)\n",
        "df.dropna(subset=['history_text'],inplace=True)"
      ],
      "execution_count": null,
      "outputs": []
    },
    {
      "cell_type": "code",
      "metadata": {
        "id": "kdMRLhWM5TsK"
      },
      "source": [
        "df.overall_score = df.overall_score.replace([\"∞\",\"-\"],\"0\")\n",
        "df.overall_score = df.overall_score.astype(int)\n",
        "df.overall_score = df.overall_score.replace(0,df.overall_score.mean())\n",
        "\n",
        "df.gender = df.gender.fillna(\"Male\")\n",
        "df.gender = df.gender.map({\"Male\":1,\"Female\":2})\n",
        "\n",
        "labelencoder = LabelEncoder()\n",
        "df.type_race = labelencoder.fit_transform(df.type_race.astype(str))"
      ],
      "execution_count": null,
      "outputs": []
    },
    {
      "cell_type": "code",
      "metadata": {
        "id": "A09BCkWi8acx"
      },
      "source": [
        "scaler = StandardScaler()\n",
        "\n",
        "df[[\"overall_score\",\"intelligence_score\",\"strength_score\",\"speed_score\",\"durability_score\",\"power_score\",\"combat_score\"]] = scaler.fit_transform(df[[\"overall_score\",\"intelligence_score\",\"strength_score\",\"speed_score\",\"durability_score\",\"power_score\",\"combat_score\"]])"
      ],
      "execution_count": null,
      "outputs": []
    },
    {
      "cell_type": "code",
      "metadata": {
        "id": "UtFTlUABAal4"
      },
      "source": [
        "labels = pd.get_dummies(df[\"creator\"])\n",
        "df.drop(columns=[\"creator\"],inplace=True)"
      ],
      "execution_count": null,
      "outputs": []
    },
    {
      "cell_type": "code",
      "metadata": {
        "id": "TLZPCkbV8kNR"
      },
      "source": [
        "trainAttrX, testAttrX, trainTextX, testTextX = train_test_split(df.drop(\"history_text\",axis=1), df.history_text, test_size=0.25, random_state=42)\n",
        "train_y, test_y = train_test_split(labels, test_size=0.25, random_state=42)"
      ],
      "execution_count": null,
      "outputs": []
    },
    {
      "cell_type": "code",
      "metadata": {
        "id": "0iMuBJrYit0O"
      },
      "source": [
        "max_features = 20000\n",
        "\n",
        "tokenizer = Tokenizer(num_words = max_features)\n",
        "tokenizer.fit_on_texts(df.history_text.to_list())\n",
        "\n",
        "list_tokenized_train = tokenizer.texts_to_sequences(trainTextX)\n",
        "list_tokenized_test = tokenizer.texts_to_sequences(testTextX)"
      ],
      "execution_count": null,
      "outputs": []
    },
    {
      "cell_type": "code",
      "metadata": {
        "colab": {
          "base_uri": "https://localhost:8080/",
          "height": 469
        },
        "id": "zXA2M578eMNc",
        "outputId": "3709a49a-5826-49c0-82f2-d850215ea397"
      },
      "source": [
        "sentenceLength = [len(one_comment) for one_comment in list_tokenized_train]\n",
        "\n",
        "plt.hist(sentenceLength, bins = 30)"
      ],
      "execution_count": null,
      "outputs": [
        {
          "output_type": "execute_result",
          "data": {
            "text/plain": [
              "(array([630., 121.,  68.,  34.,  24.,   7.,   5.,   9.,   3.,   4.,   3.,\n",
              "          4.,   1.,   2.,   0.,   1.,   1.,   1.,   1.,   1.,   0.,   0.,\n",
              "          2.,   1.,   0.,   0.,   0.,   0.,   0.,   1.]),\n",
              " array([1.00000000e+00, 4.88066667e+02, 9.75133333e+02, 1.46220000e+03,\n",
              "        1.94926667e+03, 2.43633333e+03, 2.92340000e+03, 3.41046667e+03,\n",
              "        3.89753333e+03, 4.38460000e+03, 4.87166667e+03, 5.35873333e+03,\n",
              "        5.84580000e+03, 6.33286667e+03, 6.81993333e+03, 7.30700000e+03,\n",
              "        7.79406667e+03, 8.28113333e+03, 8.76820000e+03, 9.25526667e+03,\n",
              "        9.74233333e+03, 1.02294000e+04, 1.07164667e+04, 1.12035333e+04,\n",
              "        1.16906000e+04, 1.21776667e+04, 1.26647333e+04, 1.31518000e+04,\n",
              "        1.36388667e+04, 1.41259333e+04, 1.46130000e+04]),\n",
              " <a list of 30 Patch objects>)"
            ]
          },
          "metadata": {
            "tags": []
          },
          "execution_count": 13
        },
        {
          "output_type": "display_data",
          "data": {
            "image/png": "[encoded data removed]",
            "text/plain": [
              "<Figure size 432x288 with 1 Axes>"
            ]
          },
          "metadata": {
            "tags": [],
            "needs_background": "light"
          }
        }
      ]
    },
    {
      "cell_type": "code",
      "metadata": {
        "id": "k-y7lS3W9pfQ"
      },
      "source": [
        "max_sen_len = 2500\n",
        "\n",
        "trainTextX = pad_sequences(list_tokenized_train, maxlen = max_sen_len)\n",
        "testTextX = pad_sequences(list_tokenized_test, maxlen = max_sen_len)"
      ],
      "execution_count": null,
      "outputs": []
    },
    {
      "cell_type": "code",
      "metadata": {
        "colab": {
          "base_uri": "https://localhost:8080/"
        },
        "id": "SsLxm-xQLmIh",
        "outputId": "0fd0c64f-0ac7-4216-a6ba-20479d88b3b0"
      },
      "source": [
        "# LSTM input\n",
        "input_1 = tf.keras.layers.Input(shape=(max_sen_len,))\n",
        "input_2 = tf.keras.layers.Embedding(max_features, \n",
        "                        128, \n",
        "                        input_length = max_sen_len)(input_1)\n",
        "\n",
        "lstm_1 = tf.keras.layers.LSTM(100, return_sequences = True)(input_2)\n",
        "\n",
        "pool_1 = tf.keras.layers.GlobalMaxPool1D()(lstm_1)\n",
        "\n",
        "dense_2 = tf.keras.layers.Dense(50, activation=\"relu\")(pool_1)\n",
        "\n",
        "# The MLP input\n",
        "input__1 = tf.keras.layers.Input(shape=(trainAttrX.shape[1],))\n",
        "dense__1 = tf.keras.layers.Dense(100, activation=\"relu\")(input__1)\n",
        "dense__2 = tf.keras.layers.Dense(50, activation=\"relu\")(dense__1)\n",
        "\n",
        "# Concatenate\n",
        "concat = tf.keras.layers.Concatenate()([dense__2, dense_2])\n",
        "\n",
        "n_classes = 41\n",
        "\n",
        "dense___1 = tf.keras.layers.Dense(100, activation=\"relu\")(concat)\n",
        "\n",
        "# output layer\n",
        "output = tf.keras.layers.Dense(units=n_classes,\n",
        "                               activation=tf.keras.activations.softmax)(dense___1)\n",
        "\n",
        "model = tf.keras.Model(inputs=[input__1,input_1], outputs=[output])\n",
        "\n",
        "model.summary()"
      ],
      "execution_count": null,
      "outputs": [
        {
          "output_type": "stream",
          "text": [
            "Model: \"model_3\"\n",
            "__________________________________________________________________________________________________\n",
            "Layer (type)                    Output Shape         Param #     Connected to                     \n",
            "==================================================================================================\n",
            "input_9 (InputLayer)            [(None, 2500)]       0                                            \n",
            "__________________________________________________________________________________________________\n",
            "embedding_3 (Embedding)         (None, 2500, 128)    2560000     input_9[0][0]                    \n",
            "__________________________________________________________________________________________________\n",
            "input_10 (InputLayer)           [(None, 9)]          0                                            \n",
            "__________________________________________________________________________________________________\n",
            "lstm_3 (LSTM)                   (None, 2500, 100)    91600       embedding_3[0][0]                \n",
            "__________________________________________________________________________________________________\n",
            "dense_15 (Dense)                (None, 100)          1000        input_10[0][0]                   \n",
            "__________________________________________________________________________________________________\n",
            "global_max_pooling1d_3 (GlobalM (None, 100)          0           lstm_3[0][0]                     \n",
            "__________________________________________________________________________________________________\n",
            "dense_16 (Dense)                (None, 50)           5050        dense_15[0][0]                   \n",
            "__________________________________________________________________________________________________\n",
            "dense_14 (Dense)                (None, 50)           5050        global_max_pooling1d_3[0][0]     \n",
            "__________________________________________________________________________________________________\n",
            "concatenate_3 (Concatenate)     (None, 100)          0           dense_16[0][0]                   \n",
            "                                                                 dense_14[0][0]                   \n",
            "__________________________________________________________________________________________________\n",
            "dense_17 (Dense)                (None, 100)          10100       concatenate_3[0][0]              \n",
            "__________________________________________________________________________________________________\n",
            "dense_18 (Dense)                (None, 41)           4141        dense_17[0][0]                   \n",
            "==================================================================================================\n",
            "Total params: 2,676,941\n",
            "Trainable params: 2,676,941\n",
            "Non-trainable params: 0\n",
            "__________________________________________________________________________________________________\n"
          ],
          "name": "stdout"
        }
      ]
    },
    {
      "cell_type": "code",
      "metadata": {
        "colab": {
          "base_uri": "https://localhost:8080/"
        },
        "id": "gnzCcdtu6LkQ",
        "outputId": "36e44bd6-79da-4f75-f5f3-78beda2fb407"
      },
      "source": [
        "opt = Adam(learning_rate=1e-3)\n",
        "\n",
        "model.compile(loss=\"categorical_crossentropy\", optimizer=opt, metrics=[\"accuracy\"])\n",
        "\n",
        "History = model.fit(\n",
        "\tx=[trainAttrX, trainTextX], y=train_y,\n",
        "\tvalidation_data=([testAttrX, testTextX], test_y),\n",
        "\tepochs=15, batch_size=8)"
      ],
      "execution_count": null,
      "outputs": [
        {
          "output_type": "stream",
          "text": [
            "Epoch 1/15\n",
            "116/116 [==============================] - 17s 132ms/step - loss: 1.9861 - accuracy: 0.4383 - val_loss: 1.6496 - val_accuracy: 0.4790\n",
            "Epoch 2/15\n",
            "116/116 [==============================] - 15s 130ms/step - loss: 1.6278 - accuracy: 0.4892 - val_loss: 1.6246 - val_accuracy: 0.4660\n",
            "Epoch 3/15\n",
            "116/116 [==============================] - 16s 134ms/step - loss: 1.5130 - accuracy: 0.5206 - val_loss: 1.4518 - val_accuracy: 0.5922\n",
            "Epoch 4/15\n",
            "116/116 [==============================] - 15s 131ms/step - loss: 1.1789 - accuracy: 0.6688 - val_loss: 1.2304 - val_accuracy: 0.6958\n",
            "Epoch 5/15\n",
            "116/116 [==============================] - 15s 127ms/step - loss: 0.7228 - accuracy: 0.8052 - val_loss: 1.0781 - val_accuracy: 0.7055\n",
            "Epoch 6/15\n",
            "116/116 [==============================] - 15s 128ms/step - loss: 0.5484 - accuracy: 0.8550 - val_loss: 1.0135 - val_accuracy: 0.7605\n",
            "Epoch 7/15\n",
            "116/116 [==============================] - 15s 132ms/step - loss: 0.4639 - accuracy: 0.8690 - val_loss: 1.0228 - val_accuracy: 0.7767\n",
            "Epoch 8/15\n",
            "116/116 [==============================] - 15s 131ms/step - loss: 0.3992 - accuracy: 0.8896 - val_loss: 1.0192 - val_accuracy: 0.7799\n",
            "Epoch 9/15\n",
            "116/116 [==============================] - 15s 132ms/step - loss: 0.3303 - accuracy: 0.9026 - val_loss: 1.1152 - val_accuracy: 0.7799\n",
            "Epoch 10/15\n",
            "116/116 [==============================] - 15s 132ms/step - loss: 0.2984 - accuracy: 0.9145 - val_loss: 1.1385 - val_accuracy: 0.7508\n",
            "Epoch 11/15\n",
            "116/116 [==============================] - 15s 129ms/step - loss: 0.2528 - accuracy: 0.9286 - val_loss: 1.1660 - val_accuracy: 0.7799\n",
            "Epoch 12/15\n",
            "116/116 [==============================] - 15s 128ms/step - loss: 0.2021 - accuracy: 0.9470 - val_loss: 1.1305 - val_accuracy: 0.7799\n",
            "Epoch 13/15\n",
            "116/116 [==============================] - 15s 129ms/step - loss: 0.1674 - accuracy: 0.9589 - val_loss: 1.2891 - val_accuracy: 0.8026\n",
            "Epoch 14/15\n",
            "116/116 [==============================] - 15s 133ms/step - loss: 0.1412 - accuracy: 0.9600 - val_loss: 1.2712 - val_accuracy: 0.7443\n",
            "Epoch 15/15\n",
            "116/116 [==============================] - 15s 129ms/step - loss: 0.1066 - accuracy: 0.9719 - val_loss: 1.5692 - val_accuracy: 0.7282\n"
          ],
          "name": "stdout"
        }
      ]
    },
    {
      "cell_type": "code",
      "metadata": {
        "id": "Vm8zQnHyUYEa"
      },
      "source": [
        "preds = model.predict([testAttrX, testTextX])"
      ],
      "execution_count": null,
      "outputs": []
    },
    {
      "cell_type": "code",
      "metadata": {
        "colab": {
          "base_uri": "https://localhost:8080/",
          "height": 545
        },
        "id": "MCKYW3IMWxVq",
        "outputId": "a326a0b2-9d59-4e7f-e387-bfe31c944ce1"
      },
      "source": [
        "acc = History.history['accuracy']\n",
        "val_acc = History.history['val_accuracy']\n",
        "loss = History.history['loss']\n",
        "val_loss = History.history['val_loss']\n",
        "\n",
        "import matplotlib.pyplot as plt\n",
        "\n",
        "epochs = range(1, len(acc) + 1)\n",
        "\n",
        "plt.plot(epochs, acc, 'bo', label='Training acc')\n",
        "plt.plot(epochs, val_acc, 'b', label='Validation acc')\n",
        "plt.title('Training and validation accuracy')\n",
        "plt.legend()\n",
        "\n",
        "plt.figure()\n",
        "\n",
        "plt.plot(epochs, loss, 'bo', label='Training loss')\n",
        "plt.plot(epochs, val_loss, 'b', label='Validation loss')\n",
        "plt.title('Training and validation loss')\n",
        "plt.legend()\n",
        "\n",
        "plt.show()"
      ],
      "execution_count": null,
      "outputs": [
        {
          "output_type": "display_data",
          "data": {
            "image/png": "[encoded data removed]",
            "text/plain": [
              "<Figure size 432x288 with 1 Axes>"
            ]
          },
          "metadata": {
            "tags": [],
            "needs_background": "light"
          }
        },
        {
          "output_type": "display_data",
          "data": {
            "image/png": "[encoded data removed]",
            "text/plain": [
              "<Figure size 432x288 with 1 Axes>"
            ]
          },
          "metadata": {
            "tags": [],
            "needs_background": "light"
          }
        }
      ]
    }
  ]
}