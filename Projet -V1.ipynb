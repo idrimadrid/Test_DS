{
 "cells": [
  {
   "cell_type": "code",
   "execution_count": 78,
   "metadata": {
    "ExecuteTime": {
     "end_time": "2021-06-30T19:06:31.776213Z",
     "start_time": "2021-06-30T19:06:31.772223Z"
    }
   },
   "outputs": [],
   "source": [
    "import pandas as pd\n",
    "from sklearn.preprocessing import LabelEncoder \n"
   ]
  },
  {
   "cell_type": "code",
   "execution_count": 83,
   "metadata": {
    "ExecuteTime": {
     "end_time": "2021-06-30T19:07:37.670119Z",
     "start_time": "2021-06-30T19:07:37.603298Z"
    }
   },
   "outputs": [],
   "source": [
    "df = pd.read_csv('data_for_test.csv')"
   ]
  },
  {
   "cell_type": "code",
   "execution_count": 84,
   "metadata": {
    "ExecuteTime": {
     "end_time": "2021-06-30T19:07:38.732025Z",
     "start_time": "2021-06-30T19:07:38.723076Z"
    }
   },
   "outputs": [],
   "source": [
    "labelencoder = LabelEncoder()\n",
    "df.creator = labelencoder.fit_transform(df.creator)\n",
    "\n",
    "labelencodergen = LabelEncoder()\n",
    "df.gender = labelencodergen.fit_transform(df.gender)\n",
    "\n",
    "labelencoderrace = LabelEncoder()\n",
    "df.type_race = labelencodergen.fit_transform(df.type_race)"
   ]
  },
  {
   "cell_type": "code",
   "execution_count": 85,
   "metadata": {
    "ExecuteTime": {
     "end_time": "2021-06-30T19:07:44.258788Z",
     "start_time": "2021-06-30T19:07:44.243166Z"
    },
    "scrolled": true
   },
   "outputs": [],
   "source": [
    "df.drop(columns=[\"overall_score\",\"name\",\"real_name\",\"full_name\",\"height\",\"weight\"],inplace=True)"
   ]
  },
  {
   "cell_type": "code",
   "execution_count": 86,
   "metadata": {
    "ExecuteTime": {
     "end_time": "2021-06-30T19:07:47.515268Z",
     "start_time": "2021-06-30T19:07:47.509288Z"
    }
   },
   "outputs": [],
   "source": [
    "df.dropna(inplace=True)"
   ]
  },
  {
   "cell_type": "code",
   "execution_count": 87,
   "metadata": {
    "ExecuteTime": {
     "end_time": "2021-06-30T19:07:48.415906Z",
     "start_time": "2021-06-30T19:07:48.403939Z"
    },
    "scrolled": true
   },
   "outputs": [
    {
     "data": {
      "text/html": [
       "<div>\n",
       "<style scoped>\n",
       "    .dataframe tbody tr th:only-of-type {\n",
       "        vertical-align: middle;\n",
       "    }\n",
       "\n",
       "    .dataframe tbody tr th {\n",
       "        vertical-align: top;\n",
       "    }\n",
       "\n",
       "    .dataframe thead th {\n",
       "        text-align: right;\n",
       "    }\n",
       "</style>\n",
       "<table border=\"1\" class=\"dataframe\">\n",
       "  <thead>\n",
       "    <tr style=\"text-align: right;\">\n",
       "      <th></th>\n",
       "      <th>history_text</th>\n",
       "      <th>intelligence_score</th>\n",
       "      <th>strength_score</th>\n",
       "      <th>speed_score</th>\n",
       "      <th>durability_score</th>\n",
       "      <th>power_score</th>\n",
       "      <th>combat_score</th>\n",
       "      <th>creator</th>\n",
       "      <th>gender</th>\n",
       "      <th>type_race</th>\n",
       "    </tr>\n",
       "  </thead>\n",
       "  <tbody>\n",
       "    <tr>\n",
       "      <th>0</th>\n",
       "      <td>Delroy Garrett, Jr. grew up to become a track ...</td>\n",
       "      <td>85</td>\n",
       "      <td>30</td>\n",
       "      <td>60</td>\n",
       "      <td>60</td>\n",
       "      <td>40</td>\n",
       "      <td>70</td>\n",
       "      <td>22</td>\n",
       "      <td>1</td>\n",
       "      <td>27</td>\n",
       "    </tr>\n",
       "    <tr>\n",
       "      <th>1</th>\n",
       "      <td>He was one of the many prisoners of Indian Hil...</td>\n",
       "      <td>100</td>\n",
       "      <td>20</td>\n",
       "      <td>30</td>\n",
       "      <td>50</td>\n",
       "      <td>35</td>\n",
       "      <td>100</td>\n",
       "      <td>5</td>\n",
       "      <td>2</td>\n",
       "      <td>67</td>\n",
       "    </tr>\n",
       "    <tr>\n",
       "      <th>2</th>\n",
       "      <td>Richard \"Rick\" Jones was orphaned at a young ...</td>\n",
       "      <td>80</td>\n",
       "      <td>100</td>\n",
       "      <td>80</td>\n",
       "      <td>100</td>\n",
       "      <td>100</td>\n",
       "      <td>80</td>\n",
       "      <td>22</td>\n",
       "      <td>1</td>\n",
       "      <td>27</td>\n",
       "    </tr>\n",
       "    <tr>\n",
       "      <th>3</th>\n",
       "      <td>Aa is one of the more passive members of the P...</td>\n",
       "      <td>80</td>\n",
       "      <td>50</td>\n",
       "      <td>55</td>\n",
       "      <td>45</td>\n",
       "      <td>100</td>\n",
       "      <td>55</td>\n",
       "      <td>5</td>\n",
       "      <td>1</td>\n",
       "      <td>27</td>\n",
       "    </tr>\n",
       "    <tr>\n",
       "      <th>4</th>\n",
       "      <td>Aaron Cash is the head of security at Arkham A...</td>\n",
       "      <td>80</td>\n",
       "      <td>10</td>\n",
       "      <td>25</td>\n",
       "      <td>40</td>\n",
       "      <td>30</td>\n",
       "      <td>50</td>\n",
       "      <td>5</td>\n",
       "      <td>1</td>\n",
       "      <td>27</td>\n",
       "    </tr>\n",
       "    <tr>\n",
       "      <th>...</th>\n",
       "      <td>...</td>\n",
       "      <td>...</td>\n",
       "      <td>...</td>\n",
       "      <td>...</td>\n",
       "      <td>...</td>\n",
       "      <td>...</td>\n",
       "      <td>...</td>\n",
       "      <td>...</td>\n",
       "      <td>...</td>\n",
       "      <td>...</td>\n",
       "    </tr>\n",
       "    <tr>\n",
       "      <th>1445</th>\n",
       "      <td>Zatanna is the daughter of adventurer John Zat...</td>\n",
       "      <td>90</td>\n",
       "      <td>10</td>\n",
       "      <td>25</td>\n",
       "      <td>30</td>\n",
       "      <td>100</td>\n",
       "      <td>55</td>\n",
       "      <td>5</td>\n",
       "      <td>0</td>\n",
       "      <td>27</td>\n",
       "    </tr>\n",
       "    <tr>\n",
       "      <th>1446</th>\n",
       "      <td>Zero was created by the late Dr. Albert Wily ...</td>\n",
       "      <td>80</td>\n",
       "      <td>100</td>\n",
       "      <td>100</td>\n",
       "      <td>100</td>\n",
       "      <td>100</td>\n",
       "      <td>80</td>\n",
       "      <td>2</td>\n",
       "      <td>1</td>\n",
       "      <td>51</td>\n",
       "    </tr>\n",
       "    <tr>\n",
       "      <th>1447</th>\n",
       "      <td>Hunter Zolomon is better known as Zoom, a spee...</td>\n",
       "      <td>95</td>\n",
       "      <td>50</td>\n",
       "      <td>100</td>\n",
       "      <td>75</td>\n",
       "      <td>100</td>\n",
       "      <td>80</td>\n",
       "      <td>5</td>\n",
       "      <td>1</td>\n",
       "      <td>67</td>\n",
       "    </tr>\n",
       "    <tr>\n",
       "      <th>1448</th>\n",
       "      <td>Hunter Zolomon had a troubled relationship wi...</td>\n",
       "      <td>75</td>\n",
       "      <td>10</td>\n",
       "      <td>100</td>\n",
       "      <td>30</td>\n",
       "      <td>100</td>\n",
       "      <td>30</td>\n",
       "      <td>5</td>\n",
       "      <td>1</td>\n",
       "      <td>67</td>\n",
       "    </tr>\n",
       "    <tr>\n",
       "      <th>1449</th>\n",
       "      <td>Zzzax was the product of an accident that occu...</td>\n",
       "      <td>45</td>\n",
       "      <td>80</td>\n",
       "      <td>75</td>\n",
       "      <td>95</td>\n",
       "      <td>80</td>\n",
       "      <td>50</td>\n",
       "      <td>22</td>\n",
       "      <td>2</td>\n",
       "      <td>67</td>\n",
       "    </tr>\n",
       "  </tbody>\n",
       "</table>\n",
       "<p>1360 rows × 10 columns</p>\n",
       "</div>"
      ],
      "text/plain": [
       "                                           history_text  intelligence_score  \\\n",
       "0     Delroy Garrett, Jr. grew up to become a track ...                  85   \n",
       "1     He was one of the many prisoners of Indian Hil...                 100   \n",
       "2      Richard \"Rick\" Jones was orphaned at a young ...                  80   \n",
       "3     Aa is one of the more passive members of the P...                  80   \n",
       "4     Aaron Cash is the head of security at Arkham A...                  80   \n",
       "...                                                 ...                 ...   \n",
       "1445  Zatanna is the daughter of adventurer John Zat...                  90   \n",
       "1446   Zero was created by the late Dr. Albert Wily ...                  80   \n",
       "1447  Hunter Zolomon is better known as Zoom, a spee...                  95   \n",
       "1448   Hunter Zolomon had a troubled relationship wi...                  75   \n",
       "1449  Zzzax was the product of an accident that occu...                  45   \n",
       "\n",
       "      strength_score  speed_score  durability_score  power_score  \\\n",
       "0                 30           60                60           40   \n",
       "1                 20           30                50           35   \n",
       "2                100           80               100          100   \n",
       "3                 50           55                45          100   \n",
       "4                 10           25                40           30   \n",
       "...              ...          ...               ...          ...   \n",
       "1445              10           25                30          100   \n",
       "1446             100          100               100          100   \n",
       "1447              50          100                75          100   \n",
       "1448              10          100                30          100   \n",
       "1449              80           75                95           80   \n",
       "\n",
       "      combat_score  creator  gender  type_race  \n",
       "0               70       22       1         27  \n",
       "1              100        5       2         67  \n",
       "2               80       22       1         27  \n",
       "3               55        5       1         27  \n",
       "4               50        5       1         27  \n",
       "...            ...      ...     ...        ...  \n",
       "1445            55        5       0         27  \n",
       "1446            80        2       1         51  \n",
       "1447            80        5       1         67  \n",
       "1448            30        5       1         67  \n",
       "1449            50       22       2         67  \n",
       "\n",
       "[1360 rows x 10 columns]"
      ]
     },
     "execution_count": 87,
     "metadata": {},
     "output_type": "execute_result"
    }
   ],
   "source": [
    "df"
   ]
  },
  {
   "cell_type": "code",
   "execution_count": 88,
   "metadata": {
    "ExecuteTime": {
     "end_time": "2021-06-30T19:07:58.881054Z",
     "start_time": "2021-06-30T19:07:58.870085Z"
    }
   },
   "outputs": [
    {
     "name": "stdout",
     "output_type": "stream",
     "text": [
      "<class 'pandas.core.frame.DataFrame'>\n",
      "Int64Index: 1360 entries, 0 to 1449\n",
      "Data columns (total 10 columns):\n",
      " #   Column              Non-Null Count  Dtype \n",
      "---  ------              --------------  ----- \n",
      " 0   history_text        1360 non-null   object\n",
      " 1   intelligence_score  1360 non-null   int64 \n",
      " 2   strength_score      1360 non-null   int64 \n",
      " 3   speed_score         1360 non-null   int64 \n",
      " 4   durability_score    1360 non-null   int64 \n",
      " 5   power_score         1360 non-null   int64 \n",
      " 6   combat_score        1360 non-null   int64 \n",
      " 7   creator             1360 non-null   int32 \n",
      " 8   gender              1360 non-null   int32 \n",
      " 9   type_race           1360 non-null   int32 \n",
      "dtypes: int32(3), int64(6), object(1)\n",
      "memory usage: 100.9+ KB\n"
     ]
    }
   ],
   "source": [
    "df.info()"
   ]
  },
  {
   "cell_type": "markdown",
   "metadata": {},
   "source": [
    "## Splitting "
   ]
  },
  {
   "cell_type": "code",
   "execution_count": 102,
   "metadata": {
    "ExecuteTime": {
     "end_time": "2021-06-30T19:12:42.919623Z",
     "start_time": "2021-06-30T19:12:42.916620Z"
    }
   },
   "outputs": [],
   "source": [
    "test = df.iloc[:200]\n",
    "train = df.iloc[200:]"
   ]
  },
  {
   "cell_type": "markdown",
   "metadata": {},
   "source": [
    "##  train without Text"
   ]
  },
  {
   "cell_type": "code",
   "execution_count": 103,
   "metadata": {
    "ExecuteTime": {
     "end_time": "2021-06-30T19:12:45.936197Z",
     "start_time": "2021-06-30T19:12:45.714039Z"
    },
    "scrolled": true
   },
   "outputs": [
    {
     "name": "stderr",
     "output_type": "stream",
     "text": [
      "C:\\Users\\dada\\AppData\\Roaming\\Python\\Python37\\site-packages\\sklearn\\svm\\_base.py:986: ConvergenceWarning: Liblinear failed to converge, increase the number of iterations.\n",
      "  \"the number of iterations.\", ConvergenceWarning)\n"
     ]
    },
    {
     "data": {
      "text/plain": [
       "LinearSVC()"
      ]
     },
     "execution_count": 103,
     "metadata": {},
     "output_type": "execute_result"
    }
   ],
   "source": [
    "from sklearn.metrics import accuracy_score\n",
    "from sklearn.svm import LinearSVC\n",
    "\n",
    "model = LinearSVC()\n",
    "model.fit(train.drop(['history_text','creator'],axis=1), train[\"creator\"])\n"
   ]
  },
  {
   "cell_type": "code",
   "execution_count": null,
   "metadata": {},
   "outputs": [],
   "source": [
    "y_pred = model.predict(test.drop(['history_text','creator'],axis=1))\n",
    "\n",
    "acc = accuracy_score(test[\"creator\"], y_pred)\n",
    "\n",
    "print(\"Accuracy : {:.2f}\".format(acc*100))"
   ]
  },
  {
   "cell_type": "markdown",
   "metadata": {},
   "source": [
    "##  train withText"
   ]
  },
  {
   "cell_type": "code",
   "execution_count": 106,
   "metadata": {
    "ExecuteTime": {
     "end_time": "2021-06-30T19:14:06.661713Z",
     "start_time": "2021-06-30T19:14:06.084684Z"
    }
   },
   "outputs": [
    {
     "data": {
      "text/plain": [
       "CountVectorizer()"
      ]
     },
     "execution_count": 106,
     "metadata": {},
     "output_type": "execute_result"
    }
   ],
   "source": [
    "from sklearn.feature_extraction.text import CountVectorizer\n",
    "\n",
    "vectorizer = CountVectorizer()\n",
    "vectorizer.fit(df['history_text'])\n"
   ]
  },
  {
   "cell_type": "code",
   "execution_count": 107,
   "metadata": {
    "ExecuteTime": {
     "end_time": "2021-06-30T19:14:20.986271Z",
     "start_time": "2021-06-30T19:14:20.451569Z"
    }
   },
   "outputs": [],
   "source": [
    "train1 = vectorizer.transform(train['history_text'])\n",
    "test1 = vectorizer.transform(test['history_text'])"
   ]
  },
  {
   "cell_type": "code",
   "execution_count": 108,
   "metadata": {
    "ExecuteTime": {
     "end_time": "2021-06-30T19:14:29.385709Z",
     "start_time": "2021-06-30T19:14:28.800518Z"
    },
    "scrolled": true
   },
   "outputs": [
    {
     "name": "stderr",
     "output_type": "stream",
     "text": [
      "C:\\Users\\dada\\AppData\\Roaming\\Python\\Python37\\site-packages\\sklearn\\svm\\_base.py:986: ConvergenceWarning: Liblinear failed to converge, increase the number of iterations.\n",
      "  \"the number of iterations.\", ConvergenceWarning)\n"
     ]
    },
    {
     "data": {
      "text/plain": [
       "LinearSVC()"
      ]
     },
     "execution_count": 108,
     "metadata": {},
     "output_type": "execute_result"
    }
   ],
   "source": [
    "model = LinearSVC()\n",
    "model.fit(train1, train[\"creator\"])"
   ]
  },
  {
   "cell_type": "code",
   "execution_count": 109,
   "metadata": {
    "ExecuteTime": {
     "end_time": "2021-06-30T19:14:39.584338Z",
     "start_time": "2021-06-30T19:14:39.573002Z"
    }
   },
   "outputs": [
    {
     "name": "stdout",
     "output_type": "stream",
     "text": [
      "Accuracy : 73.00\n"
     ]
    }
   ],
   "source": [
    "y_pred = model.predict(test1)\n",
    "\n",
    "acc = accuracy_score(test[\"creator\"], y_pred)\n",
    "\n",
    "print(\"Accuracy : {:.2f}\".format(acc*100))"
   ]
  },
  {
   "cell_type": "markdown",
   "metadata": {},
   "source": [
    "##  with both"
   ]
  },
  {
   "cell_type": "markdown",
   "metadata": {},
   "source": [
    "on va essayer de concatener les features extrait du history text avec les caractéristique de chaque héro pour voir si ça donne de meilleur résultats"
   ]
  },
  {
   "cell_type": "code",
   "execution_count": 129,
   "metadata": {
    "ExecuteTime": {
     "end_time": "2021-06-30T19:30:14.921651Z",
     "start_time": "2021-06-30T19:30:14.707809Z"
    },
    "scrolled": true
   },
   "outputs": [],
   "source": [
    "tr = np.concatenate((train1.toarray(), train.drop(['history_text','creator'],axis=1).to_numpy()), axis=1)\n",
    "ts = np.concatenate((test1.toarray(), test.drop(['history_text','creator'],axis=1).to_numpy()), axis=1)"
   ]
  },
  {
   "cell_type": "code",
   "execution_count": 130,
   "metadata": {
    "ExecuteTime": {
     "end_time": "2021-06-30T19:30:21.696427Z",
     "start_time": "2021-06-30T19:30:20.225618Z"
    },
    "scrolled": false
   },
   "outputs": [
    {
     "name": "stderr",
     "output_type": "stream",
     "text": [
      "C:\\Users\\dada\\AppData\\Roaming\\Python\\Python37\\site-packages\\sklearn\\svm\\_base.py:986: ConvergenceWarning: Liblinear failed to converge, increase the number of iterations.\n",
      "  \"the number of iterations.\", ConvergenceWarning)\n"
     ]
    },
    {
     "data": {
      "text/plain": [
       "LinearSVC()"
      ]
     },
     "execution_count": 130,
     "metadata": {},
     "output_type": "execute_result"
    }
   ],
   "source": [
    "model = LinearSVC()\n",
    "model.fit(tr, train[\"creator\"])"
   ]
  },
  {
   "cell_type": "code",
   "execution_count": 131,
   "metadata": {
    "ExecuteTime": {
     "end_time": "2021-06-30T19:30:33.134718Z",
     "start_time": "2021-06-30T19:30:33.091942Z"
    }
   },
   "outputs": [
    {
     "name": "stdout",
     "output_type": "stream",
     "text": [
      "Accuracy : 67.00\n"
     ]
    }
   ],
   "source": [
    "y_pred = model.predict(ts)\n",
    "\n",
    "acc = accuracy_score(test[\"creator\"], y_pred)\n",
    "\n",
    "print(\"Accuracy : {:.2f}\".format(acc*100))"
   ]
  }
 ],
 "metadata": {
  "kernelspec": {
   "display_name": "Python 3",
   "language": "python",
   "name": "python3"
  },
  "language_info": {
   "codemirror_mode": {
    "name": "ipython",
    "version": 3
   },
   "file_extension": ".py",
   "mimetype": "text/x-python",
   "name": "python",
   "nbconvert_exporter": "python",
   "pygments_lexer": "ipython3",
   "version": "3.8.5"
  },
  "toc": {
   "base_numbering": 1,
   "nav_menu": {},
   "number_sections": true,
   "sideBar": true,
   "skip_h1_title": false,
   "title_cell": "Table of Contents",
   "title_sidebar": "Contents",
   "toc_cell": false,
   "toc_position": {},
   "toc_section_display": true,
   "toc_window_display": false
  },
  "varInspector": {
   "cols": {
    "lenName": 16,
    "lenType": 16,
    "lenVar": 40
   },
   "kernels_config": {
    "python": {
     "delete_cmd_postfix": "",
     "delete_cmd_prefix": "del ",
     "library": "var_list.py",
     "varRefreshCmd": "print(var_dic_list())"
    },
    "r": {
     "delete_cmd_postfix": ") ",
     "delete_cmd_prefix": "rm(",
     "library": "var_list.r",
     "varRefreshCmd": "cat(var_dic_list()) "
    }
   },
   "types_to_exclude": [
    "module",
    "function",
    "builtin_function_or_method",
    "instance",
    "_Feature"
   ],
   "window_display": false
  }
 },
 "nbformat": 4,
 "nbformat_minor": 2
}
